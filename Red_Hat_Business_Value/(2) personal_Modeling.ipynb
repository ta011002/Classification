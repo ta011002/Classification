{
 "cells": [
  {
   "cell_type": "code",
   "execution_count": 1,
   "metadata": {
    "scrolled": true
   },
   "outputs": [
    {
     "name": "stderr",
     "output_type": "stream",
     "text": [
      "C:\\Users\\tjdal\\Anaconda3\\lib\\site-packages\\statsmodels\\compat\\pandas.py:56: FutureWarning: The pandas.core.datetools module is deprecated and will be removed in a future version. Please use the pandas.tseries module instead.\n",
      "  from pandas.core import datetools\n"
     ]
    }
   ],
   "source": [
    "import numpy as np\n",
    "import scipy as sp\n",
    "import pandas as pd\n",
    "import statsmodels.api as sm\n",
    "import statsmodels.formula.api as smf\n",
    "import statsmodels.stats.api as sms\n",
    "import sklearn as sk\n",
    "\n",
    "import matplotlib as mpl\n",
    "import matplotlib.pylab as plt\n",
    "from mpl_toolkits.mplot3d import Axes3D\n",
    "mpl.rcParams['figure.figsize'] = (8, 5)\n",
    "\n",
    "import seaborn as sns\n",
    "sns.set()\n",
    "sns.set_style(\"whitegrid\")\n",
    "sns.set_color_codes()\n",
    "\n",
    "\n",
    "from sklearn.metrics import confusion_matrix, classification_report, roc_curve, auc, roc_auc_score, accuracy_score\n",
    "from sklearn.naive_bayes import GaussianNB\n",
    "from sklearn.naive_bayes import BernoulliNB\n",
    "from sklearn.naive_bayes import MultinomialNB\n",
    "from sklearn.preprocessing import binarize\n",
    "from sklearn.preprocessing import label_binarize\n",
    "from sklearn.tree import DecisionTreeClassifier\n",
    "from sklearn.linear_model import LogisticRegression\n",
    "\n",
    "\n",
    "import io\n",
    "import pydot\n",
    "from IPython.core.display import Image \n",
    "from sklearn.tree import export_graphviz\n",
    "\n",
    "\n",
    "pd.options.display.max_columns = 400\n",
    "pd.options.display.max_rows = 200\n",
    "pd.options.display.max_colwidth = 600\n",
    "pd.options.display.precision = 10"
   ]
  },
  {
   "cell_type": "code",
   "execution_count": 47,
   "metadata": {
    "collapsed": true
   },
   "outputs": [],
   "source": [
    "train = pd.read_csv('./__data/act_train.csv', parse_dates=['date'])\n",
    "test = pd.read_csv('./__data/act_test.csv', parse_dates=['date'])\n",
    "ppl = pd.read_csv('./__data/people.csv', parse_dates=['date'])"
   ]
  },
  {
   "cell_type": "code",
   "execution_count": 48,
   "metadata": {
    "collapsed": true
   },
   "outputs": [],
   "source": [
    "df_train = pd.merge(train, ppl, on='people_id', suffixes=('_act', '_ppl'))\n",
    "df_test = pd.merge(test, ppl, on='people_id', suffixes=('_act', '_ppl'))"
   ]
  },
  {
   "cell_type": "code",
   "execution_count": 49,
   "metadata": {
    "collapsed": true
   },
   "outputs": [],
   "source": [
    "del train, test, ppl"
   ]
  },
  {
   "cell_type": "markdown",
   "metadata": {},
   "source": [
    "# 1. Preprocessing"
   ]
  },
  {
   "cell_type": "markdown",
   "metadata": {},
   "source": [
    "* activity_id value를 act1 / act2 에 따라 1 / 2 로 구분\n",
    "* act data 와 people data 의 data feature를 year / month / day / weekday 로 구분 \n",
    "* group_1 / people_id feature 의 string 제거 (숫자만 존재)\n",
    "* 가입 후 특정 행동까지의 기간 생성\n",
    "* activity_id value의 string을 제거 후 숫자만으로 id 유지\n",
    "* 기존 연/월/일 이 합쳐진 date feature 제거\n",
    "* NaN 값 0 으로 대체\n",
    "* boolean type feature 0 or 1 로 encodint"
   ]
  },
  {
   "cell_type": "code",
   "execution_count": 5,
   "metadata": {
    "collapsed": true
   },
   "outputs": [],
   "source": [
    "def cleansing_data(train, test):\n",
    "    \n",
    "    # activity_id value를 act1 / act2 에 따라 type1 / type2 로 구분\n",
    "    for table in [train, test]:\n",
    "        ait = pd.DataFrame([item[0].lstrip('act') for item in table['activity_id'].str.split('_')])\n",
    "        table.insert(1, 'activity_id_type', ait)\n",
    "\n",
    "    # act data 와 people data 의 date feature를 year / month / day / weekday 로 구분    \n",
    "    for table in [train, test]:\n",
    "        \n",
    "        table.insert(3, 'year_act', table['date_act'].dt.year)\n",
    "        table.insert(4, 'month_act',table['date_act'].dt.month)\n",
    "        table.insert(5, 'day_act', table['date_act'].dt.day)\n",
    "        table.insert(6, 'weekday_act', table['date_act'].dt.weekday)\n",
    "    \n",
    "        table.insert(19, 'year_ppl', table['date_ppl'].dt.year)\n",
    "        table.insert(20, 'month_ppl', table['date_ppl'].dt.month)\n",
    "        table.insert(21, 'day_ppl', table['date_ppl'].dt.day)\n",
    "        table.insert(22, 'weekday_ppl', table['date_ppl'].dt.weekday)\n",
    "    \n",
    "        # group_1 / people_id feature 의 string 제거\n",
    "        table['group_1'] = table['group_1'].str.lstrip('group')\n",
    "        table['people_id'] = table['people_id'].str.lstrip('ppl_')\n",
    "    \n",
    "        # 가입 후 특정 행동까지의 기간 생성\n",
    "        table['from_join_to_act'] = (table['date_act'] - table['date_ppl']).astype('timedelta64[D]')\n",
    "     \n",
    "        # activity_id value의 string을 제거 후 숫자만으로 id 유지\n",
    "        table['activity_id'] = table['activity_id'].str.lstrip('act2_')\n",
    "        table['activity_id'] = table['activity_id'].str.lstrip('act1_')\n",
    "        \n",
    "        \n",
    "        # 기존 연/월/일 이 합쳐진 date feature 제거\n",
    "        del table['date_act']\n",
    "        del table['date_ppl']\n",
    "        \n",
    "        # NaN 값 0 으로 대체 \n",
    "        table.fillna(0, inplace=True)\n",
    "              \n",
    "    # boolean type feature 0 or 1 로 encodint\n",
    "    features = ['char_{}'.format(i) for i in range(11, 38)]\n",
    "    features.insert(0, 'char_10_ppl')\n",
    "\n",
    "    tf_map = {True: 0, False: 1}\n",
    "    for table in [train, test]:\n",
    "        for feature in features:\n",
    "            table[feature] = table[feature].map(tf_map)\n",
    "    \n",
    "    # Memory Error 로 함께 실행 불가\n",
    "    # type 문자열 제거\n",
    "#     for table in [train, test]:\n",
    "#         table = table.replace('type ', '', regex=True).apply(pd.to_numeric, errors='ignore')\n",
    "\n",
    "    return None"
   ]
  },
  {
   "cell_type": "code",
   "execution_count": 6,
   "metadata": {
    "scrolled": true
   },
   "outputs": [
    {
     "name": "stdout",
     "output_type": "stream",
     "text": [
      "Wall time: 30.1 s\n"
     ]
    }
   ],
   "source": [
    "%%time\n",
    "cleansing_data(df_train, df_test)"
   ]
  },
  {
   "cell_type": "markdown",
   "metadata": {},
   "source": [
    "#### * type string 제거"
   ]
  },
  {
   "cell_type": "code",
   "execution_count": 7,
   "metadata": {},
   "outputs": [
    {
     "name": "stdout",
     "output_type": "stream",
     "text": [
      "Wall time: 2min 14s\n"
     ]
    }
   ],
   "source": [
    "%%time\n",
    "df_train = df_train.replace('type ', '', regex=True).apply(pd.to_numeric, errors='ignore')\n",
    "df_test = df_test.replace('type ', '', regex=True).apply(pd.to_numeric, errors='ignore')"
   ]
  },
  {
   "cell_type": "code",
   "execution_count": 8,
   "metadata": {
    "collapsed": true
   },
   "outputs": [],
   "source": [
    "y = df_train['outcome']\n",
    "df_train = df_train.drop('outcome', axis=1)"
   ]
  },
  {
   "cell_type": "code",
   "execution_count": 77,
   "metadata": {},
   "outputs": [
    {
     "data": {
      "text/html": [
       "<div>\n",
       "<style>\n",
       "    .dataframe thead tr:only-child th {\n",
       "        text-align: right;\n",
       "    }\n",
       "\n",
       "    .dataframe thead th {\n",
       "        text-align: left;\n",
       "    }\n",
       "\n",
       "    .dataframe tbody tr th {\n",
       "        vertical-align: top;\n",
       "    }\n",
       "</style>\n",
       "<table border=\"1\" class=\"dataframe\">\n",
       "  <thead>\n",
       "    <tr style=\"text-align: right;\">\n",
       "      <th></th>\n",
       "      <th>people_id</th>\n",
       "      <th>activity_id_type</th>\n",
       "      <th>activity_id</th>\n",
       "      <th>year_act</th>\n",
       "      <th>month_act</th>\n",
       "      <th>day_act</th>\n",
       "      <th>weekday_act</th>\n",
       "      <th>activity_category</th>\n",
       "      <th>char_1_act</th>\n",
       "      <th>char_2_act</th>\n",
       "      <th>char_3_act</th>\n",
       "      <th>char_4_act</th>\n",
       "      <th>char_5_act</th>\n",
       "      <th>char_6_act</th>\n",
       "      <th>char_7_act</th>\n",
       "      <th>char_8_act</th>\n",
       "      <th>char_9_act</th>\n",
       "      <th>char_10_act</th>\n",
       "      <th>year_ppl</th>\n",
       "      <th>month_ppl</th>\n",
       "      <th>day_ppl</th>\n",
       "      <th>weekday_ppl</th>\n",
       "      <th>char_1_ppl</th>\n",
       "      <th>group_1</th>\n",
       "      <th>char_2_ppl</th>\n",
       "      <th>char_3_ppl</th>\n",
       "      <th>char_4_ppl</th>\n",
       "      <th>char_5_ppl</th>\n",
       "      <th>char_6_ppl</th>\n",
       "      <th>char_7_ppl</th>\n",
       "      <th>char_8_ppl</th>\n",
       "      <th>char_9_ppl</th>\n",
       "      <th>char_10_ppl</th>\n",
       "      <th>char_11</th>\n",
       "      <th>char_12</th>\n",
       "      <th>char_13</th>\n",
       "      <th>char_14</th>\n",
       "      <th>char_15</th>\n",
       "      <th>char_16</th>\n",
       "      <th>char_17</th>\n",
       "      <th>char_18</th>\n",
       "      <th>char_19</th>\n",
       "      <th>char_20</th>\n",
       "      <th>char_21</th>\n",
       "      <th>char_22</th>\n",
       "      <th>char_23</th>\n",
       "      <th>char_24</th>\n",
       "      <th>char_25</th>\n",
       "      <th>char_26</th>\n",
       "      <th>char_27</th>\n",
       "      <th>char_28</th>\n",
       "      <th>char_29</th>\n",
       "      <th>char_30</th>\n",
       "      <th>char_31</th>\n",
       "      <th>char_32</th>\n",
       "      <th>char_33</th>\n",
       "      <th>char_34</th>\n",
       "      <th>char_35</th>\n",
       "      <th>char_36</th>\n",
       "      <th>char_37</th>\n",
       "      <th>char_38</th>\n",
       "      <th>from_join_to_act</th>\n",
       "    </tr>\n",
       "  </thead>\n",
       "  <tbody>\n",
       "    <tr>\n",
       "      <th>2197286</th>\n",
       "      <td>99994.0</td>\n",
       "      <td>2</td>\n",
       "      <td>4668076</td>\n",
       "      <td>2023</td>\n",
       "      <td>6</td>\n",
       "      <td>16</td>\n",
       "      <td>4</td>\n",
       "      <td>4</td>\n",
       "      <td>0</td>\n",
       "      <td>0</td>\n",
       "      <td>0</td>\n",
       "      <td>0</td>\n",
       "      <td>0</td>\n",
       "      <td>0</td>\n",
       "      <td>0</td>\n",
       "      <td>0</td>\n",
       "      <td>0</td>\n",
       "      <td>418</td>\n",
       "      <td>2023</td>\n",
       "      <td>1</td>\n",
       "      <td>6</td>\n",
       "      <td>4</td>\n",
       "      <td>2</td>\n",
       "      <td>17764</td>\n",
       "      <td>3</td>\n",
       "      <td>2</td>\n",
       "      <td>7</td>\n",
       "      <td>2</td>\n",
       "      <td>1</td>\n",
       "      <td>2</td>\n",
       "      <td>2</td>\n",
       "      <td>2</td>\n",
       "      <td>0</td>\n",
       "      <td>0</td>\n",
       "      <td>0</td>\n",
       "      <td>0</td>\n",
       "      <td>0</td>\n",
       "      <td>0</td>\n",
       "      <td>0</td>\n",
       "      <td>0</td>\n",
       "      <td>0</td>\n",
       "      <td>0</td>\n",
       "      <td>0</td>\n",
       "      <td>0</td>\n",
       "      <td>0</td>\n",
       "      <td>0</td>\n",
       "      <td>0</td>\n",
       "      <td>0</td>\n",
       "      <td>0</td>\n",
       "      <td>0</td>\n",
       "      <td>0</td>\n",
       "      <td>0</td>\n",
       "      <td>0</td>\n",
       "      <td>0</td>\n",
       "      <td>0</td>\n",
       "      <td>1</td>\n",
       "      <td>0</td>\n",
       "      <td>0</td>\n",
       "      <td>0</td>\n",
       "      <td>0</td>\n",
       "      <td>95</td>\n",
       "      <td>161.0</td>\n",
       "    </tr>\n",
       "    <tr>\n",
       "      <th>2197287</th>\n",
       "      <td>99994.0</td>\n",
       "      <td>2</td>\n",
       "      <td>4743548</td>\n",
       "      <td>2023</td>\n",
       "      <td>3</td>\n",
       "      <td>30</td>\n",
       "      <td>3</td>\n",
       "      <td>4</td>\n",
       "      <td>0</td>\n",
       "      <td>0</td>\n",
       "      <td>0</td>\n",
       "      <td>0</td>\n",
       "      <td>0</td>\n",
       "      <td>0</td>\n",
       "      <td>0</td>\n",
       "      <td>0</td>\n",
       "      <td>0</td>\n",
       "      <td>1832</td>\n",
       "      <td>2023</td>\n",
       "      <td>1</td>\n",
       "      <td>6</td>\n",
       "      <td>4</td>\n",
       "      <td>2</td>\n",
       "      <td>17764</td>\n",
       "      <td>3</td>\n",
       "      <td>2</td>\n",
       "      <td>7</td>\n",
       "      <td>2</td>\n",
       "      <td>1</td>\n",
       "      <td>2</td>\n",
       "      <td>2</td>\n",
       "      <td>2</td>\n",
       "      <td>0</td>\n",
       "      <td>0</td>\n",
       "      <td>0</td>\n",
       "      <td>0</td>\n",
       "      <td>0</td>\n",
       "      <td>0</td>\n",
       "      <td>0</td>\n",
       "      <td>0</td>\n",
       "      <td>0</td>\n",
       "      <td>0</td>\n",
       "      <td>0</td>\n",
       "      <td>0</td>\n",
       "      <td>0</td>\n",
       "      <td>0</td>\n",
       "      <td>0</td>\n",
       "      <td>0</td>\n",
       "      <td>0</td>\n",
       "      <td>0</td>\n",
       "      <td>0</td>\n",
       "      <td>0</td>\n",
       "      <td>0</td>\n",
       "      <td>0</td>\n",
       "      <td>0</td>\n",
       "      <td>1</td>\n",
       "      <td>0</td>\n",
       "      <td>0</td>\n",
       "      <td>0</td>\n",
       "      <td>0</td>\n",
       "      <td>95</td>\n",
       "      <td>83.0</td>\n",
       "    </tr>\n",
       "    <tr>\n",
       "      <th>2197288</th>\n",
       "      <td>99994.0</td>\n",
       "      <td>2</td>\n",
       "      <td>536973</td>\n",
       "      <td>2023</td>\n",
       "      <td>1</td>\n",
       "      <td>19</td>\n",
       "      <td>3</td>\n",
       "      <td>2</td>\n",
       "      <td>0</td>\n",
       "      <td>0</td>\n",
       "      <td>0</td>\n",
       "      <td>0</td>\n",
       "      <td>0</td>\n",
       "      <td>0</td>\n",
       "      <td>0</td>\n",
       "      <td>0</td>\n",
       "      <td>0</td>\n",
       "      <td>1</td>\n",
       "      <td>2023</td>\n",
       "      <td>1</td>\n",
       "      <td>6</td>\n",
       "      <td>4</td>\n",
       "      <td>2</td>\n",
       "      <td>17764</td>\n",
       "      <td>3</td>\n",
       "      <td>2</td>\n",
       "      <td>7</td>\n",
       "      <td>2</td>\n",
       "      <td>1</td>\n",
       "      <td>2</td>\n",
       "      <td>2</td>\n",
       "      <td>2</td>\n",
       "      <td>0</td>\n",
       "      <td>0</td>\n",
       "      <td>0</td>\n",
       "      <td>0</td>\n",
       "      <td>0</td>\n",
       "      <td>0</td>\n",
       "      <td>0</td>\n",
       "      <td>0</td>\n",
       "      <td>0</td>\n",
       "      <td>0</td>\n",
       "      <td>0</td>\n",
       "      <td>0</td>\n",
       "      <td>0</td>\n",
       "      <td>0</td>\n",
       "      <td>0</td>\n",
       "      <td>0</td>\n",
       "      <td>0</td>\n",
       "      <td>0</td>\n",
       "      <td>0</td>\n",
       "      <td>0</td>\n",
       "      <td>0</td>\n",
       "      <td>0</td>\n",
       "      <td>0</td>\n",
       "      <td>1</td>\n",
       "      <td>0</td>\n",
       "      <td>0</td>\n",
       "      <td>0</td>\n",
       "      <td>0</td>\n",
       "      <td>95</td>\n",
       "      <td>13.0</td>\n",
       "    </tr>\n",
       "    <tr>\n",
       "      <th>2197289</th>\n",
       "      <td>99994.0</td>\n",
       "      <td>2</td>\n",
       "      <td>688656</td>\n",
       "      <td>2023</td>\n",
       "      <td>5</td>\n",
       "      <td>2</td>\n",
       "      <td>1</td>\n",
       "      <td>4</td>\n",
       "      <td>0</td>\n",
       "      <td>0</td>\n",
       "      <td>0</td>\n",
       "      <td>0</td>\n",
       "      <td>0</td>\n",
       "      <td>0</td>\n",
       "      <td>0</td>\n",
       "      <td>0</td>\n",
       "      <td>0</td>\n",
       "      <td>199</td>\n",
       "      <td>2023</td>\n",
       "      <td>1</td>\n",
       "      <td>6</td>\n",
       "      <td>4</td>\n",
       "      <td>2</td>\n",
       "      <td>17764</td>\n",
       "      <td>3</td>\n",
       "      <td>2</td>\n",
       "      <td>7</td>\n",
       "      <td>2</td>\n",
       "      <td>1</td>\n",
       "      <td>2</td>\n",
       "      <td>2</td>\n",
       "      <td>2</td>\n",
       "      <td>0</td>\n",
       "      <td>0</td>\n",
       "      <td>0</td>\n",
       "      <td>0</td>\n",
       "      <td>0</td>\n",
       "      <td>0</td>\n",
       "      <td>0</td>\n",
       "      <td>0</td>\n",
       "      <td>0</td>\n",
       "      <td>0</td>\n",
       "      <td>0</td>\n",
       "      <td>0</td>\n",
       "      <td>0</td>\n",
       "      <td>0</td>\n",
       "      <td>0</td>\n",
       "      <td>0</td>\n",
       "      <td>0</td>\n",
       "      <td>0</td>\n",
       "      <td>0</td>\n",
       "      <td>0</td>\n",
       "      <td>0</td>\n",
       "      <td>0</td>\n",
       "      <td>0</td>\n",
       "      <td>1</td>\n",
       "      <td>0</td>\n",
       "      <td>0</td>\n",
       "      <td>0</td>\n",
       "      <td>0</td>\n",
       "      <td>95</td>\n",
       "      <td>116.0</td>\n",
       "    </tr>\n",
       "    <tr>\n",
       "      <th>2197290</th>\n",
       "      <td>99994.0</td>\n",
       "      <td>2</td>\n",
       "      <td>715089</td>\n",
       "      <td>2023</td>\n",
       "      <td>6</td>\n",
       "      <td>15</td>\n",
       "      <td>3</td>\n",
       "      <td>2</td>\n",
       "      <td>0</td>\n",
       "      <td>0</td>\n",
       "      <td>0</td>\n",
       "      <td>0</td>\n",
       "      <td>0</td>\n",
       "      <td>0</td>\n",
       "      <td>0</td>\n",
       "      <td>0</td>\n",
       "      <td>0</td>\n",
       "      <td>1</td>\n",
       "      <td>2023</td>\n",
       "      <td>1</td>\n",
       "      <td>6</td>\n",
       "      <td>4</td>\n",
       "      <td>2</td>\n",
       "      <td>17764</td>\n",
       "      <td>3</td>\n",
       "      <td>2</td>\n",
       "      <td>7</td>\n",
       "      <td>2</td>\n",
       "      <td>1</td>\n",
       "      <td>2</td>\n",
       "      <td>2</td>\n",
       "      <td>2</td>\n",
       "      <td>0</td>\n",
       "      <td>0</td>\n",
       "      <td>0</td>\n",
       "      <td>0</td>\n",
       "      <td>0</td>\n",
       "      <td>0</td>\n",
       "      <td>0</td>\n",
       "      <td>0</td>\n",
       "      <td>0</td>\n",
       "      <td>0</td>\n",
       "      <td>0</td>\n",
       "      <td>0</td>\n",
       "      <td>0</td>\n",
       "      <td>0</td>\n",
       "      <td>0</td>\n",
       "      <td>0</td>\n",
       "      <td>0</td>\n",
       "      <td>0</td>\n",
       "      <td>0</td>\n",
       "      <td>0</td>\n",
       "      <td>0</td>\n",
       "      <td>0</td>\n",
       "      <td>0</td>\n",
       "      <td>1</td>\n",
       "      <td>0</td>\n",
       "      <td>0</td>\n",
       "      <td>0</td>\n",
       "      <td>0</td>\n",
       "      <td>95</td>\n",
       "      <td>160.0</td>\n",
       "    </tr>\n",
       "  </tbody>\n",
       "</table>\n",
       "</div>"
      ],
      "text/plain": [
       "         people_id  activity_id_type activity_id  year_act  month_act  \\\n",
       "2197286    99994.0                 2     4668076      2023          6   \n",
       "2197287    99994.0                 2     4743548      2023          3   \n",
       "2197288    99994.0                 2      536973      2023          1   \n",
       "2197289    99994.0                 2      688656      2023          5   \n",
       "2197290    99994.0                 2      715089      2023          6   \n",
       "\n",
       "         day_act  weekday_act  activity_category  char_1_act  char_2_act  \\\n",
       "2197286       16            4                  4           0           0   \n",
       "2197287       30            3                  4           0           0   \n",
       "2197288       19            3                  2           0           0   \n",
       "2197289        2            1                  4           0           0   \n",
       "2197290       15            3                  2           0           0   \n",
       "\n",
       "         char_3_act  char_4_act  char_5_act  char_6_act  char_7_act  \\\n",
       "2197286           0           0           0           0           0   \n",
       "2197287           0           0           0           0           0   \n",
       "2197288           0           0           0           0           0   \n",
       "2197289           0           0           0           0           0   \n",
       "2197290           0           0           0           0           0   \n",
       "\n",
       "         char_8_act  char_9_act  char_10_act  year_ppl  month_ppl  day_ppl  \\\n",
       "2197286           0           0          418      2023          1        6   \n",
       "2197287           0           0         1832      2023          1        6   \n",
       "2197288           0           0            1      2023          1        6   \n",
       "2197289           0           0          199      2023          1        6   \n",
       "2197290           0           0            1      2023          1        6   \n",
       "\n",
       "         weekday_ppl  char_1_ppl  group_1  char_2_ppl  char_3_ppl  char_4_ppl  \\\n",
       "2197286            4           2    17764           3           2           7   \n",
       "2197287            4           2    17764           3           2           7   \n",
       "2197288            4           2    17764           3           2           7   \n",
       "2197289            4           2    17764           3           2           7   \n",
       "2197290            4           2    17764           3           2           7   \n",
       "\n",
       "         char_5_ppl  char_6_ppl  char_7_ppl  char_8_ppl  char_9_ppl  \\\n",
       "2197286           2           1           2           2           2   \n",
       "2197287           2           1           2           2           2   \n",
       "2197288           2           1           2           2           2   \n",
       "2197289           2           1           2           2           2   \n",
       "2197290           2           1           2           2           2   \n",
       "\n",
       "         char_10_ppl  char_11  char_12  char_13  char_14  char_15  char_16  \\\n",
       "2197286            0        0        0        0        0        0        0   \n",
       "2197287            0        0        0        0        0        0        0   \n",
       "2197288            0        0        0        0        0        0        0   \n",
       "2197289            0        0        0        0        0        0        0   \n",
       "2197290            0        0        0        0        0        0        0   \n",
       "\n",
       "         char_17  char_18  char_19  char_20  char_21  char_22  char_23  \\\n",
       "2197286        0        0        0        0        0        0        0   \n",
       "2197287        0        0        0        0        0        0        0   \n",
       "2197288        0        0        0        0        0        0        0   \n",
       "2197289        0        0        0        0        0        0        0   \n",
       "2197290        0        0        0        0        0        0        0   \n",
       "\n",
       "         char_24  char_25  char_26  char_27  char_28  char_29  char_30  \\\n",
       "2197286        0        0        0        0        0        0        0   \n",
       "2197287        0        0        0        0        0        0        0   \n",
       "2197288        0        0        0        0        0        0        0   \n",
       "2197289        0        0        0        0        0        0        0   \n",
       "2197290        0        0        0        0        0        0        0   \n",
       "\n",
       "         char_31  char_32  char_33  char_34  char_35  char_36  char_37  \\\n",
       "2197286        0        0        1        0        0        0        0   \n",
       "2197287        0        0        1        0        0        0        0   \n",
       "2197288        0        0        1        0        0        0        0   \n",
       "2197289        0        0        1        0        0        0        0   \n",
       "2197290        0        0        1        0        0        0        0   \n",
       "\n",
       "         char_38  from_join_to_act  \n",
       "2197286       95             161.0  \n",
       "2197287       95              83.0  \n",
       "2197288       95              13.0  \n",
       "2197289       95             116.0  \n",
       "2197290       95             160.0  "
      ]
     },
     "execution_count": 77,
     "metadata": {},
     "output_type": "execute_result"
    }
   ],
   "source": [
    "df_train.tail()"
   ]
  },
  {
   "cell_type": "code",
   "execution_count": null,
   "metadata": {
    "collapsed": true
   },
   "outputs": [],
   "source": []
  },
  {
   "cell_type": "markdown",
   "metadata": {},
   "source": [
    "### feature 간 상관계수 확인을 통한 feature selection"
   ]
  },
  {
   "cell_type": "code",
   "execution_count": 10,
   "metadata": {
    "collapsed": true
   },
   "outputs": [],
   "source": [
    "df_concat = pd.concat([df_train, y], axis=1)"
   ]
  },
  {
   "cell_type": "code",
   "execution_count": 20,
   "metadata": {},
   "outputs": [
    {
     "name": "stdout",
     "output_type": "stream",
     "text": [
      "Wall time: 38.5 s\n"
     ]
    }
   ],
   "source": [
    "%%time\n",
    "corr_train = df_concat.corr()"
   ]
  },
  {
   "cell_type": "markdown",
   "metadata": {},
   "source": [
    "####  target feature를 제외한 feature 간의 상관계수 중 0.9 이상 -0.9 이하 확인\n",
    "   * 해당 feature와 target feature 간의 상관계수 재확인\n",
    "   * feature 간의 상관계수가 높은 feature 들 중 target과의 상관계수가 적은 feature 제거"
   ]
  },
  {
   "cell_type": "code",
   "execution_count": 21,
   "metadata": {
    "scrolled": false
   },
   "outputs": [
    {
     "name": "stdout",
     "output_type": "stream",
     "text": [
      "activity_id_type  /  char_4_act  :  -0.930650834198\n",
      "with outcome and char_4_act  :  -0.0166410010782\n",
      "activity_id_type  /  char_6_act  :  -0.921646835621\n",
      "with outcome and char_6_act  :  -0.0167425176382\n",
      "char_4_act  /  activity_id_type  :  -0.930650834198\n",
      "with outcome and activity_id_type  :  0.0182558467491\n",
      "char_6_act  /  activity_id_type  :  -0.921646835621\n",
      "with outcome and activity_id_type  :  0.0182558467491\n",
      "char_6_act  /  char_7_act  :  0.904142191127\n",
      "with outcome and char_7_act  :  -0.016196438308\n",
      "char_7_act  /  char_6_act  :  0.904142191127\n",
      "with outcome and char_6_act  :  -0.0167425176382\n",
      "char_3_ppl  /  char_4_ppl  :  0.908604270796\n",
      "with outcome and char_4_ppl  :  -0.114526082512\n",
      "char_4_ppl  /  char_3_ppl  :  0.908604270796\n",
      "with outcome and char_3_ppl  :  -0.142767035454\n",
      "char_21  /  char_28  :  0.979756634551\n",
      "with outcome and char_28  :  -0.277761893976\n",
      "char_28  /  char_21  :  0.979756634551\n",
      "with outcome and char_21  :  -0.27874843315\n"
     ]
    }
   ],
   "source": [
    "for num in corr_train.columns:\n",
    "    for i in corr_train[num].keys():\n",
    "        if ((corr_train[num][i] > 0.9) | (corr_train[num][i] < -0.9) and (corr_train[num][i] != 1.0)):\n",
    "            print(num, \" / \", i, \" : \", corr_train[num][i])\n",
    "            print(\"with outcome and\", i, \" : \", corr_train['outcome'][i])"
   ]
  },
  {
   "cell_type": "markdown",
   "metadata": {},
   "source": [
    "* 유지 feature : char_21, char_3_ppl, char_6_act, activity_id_type  \n",
    "* 제거 feature : char_28, char_4_ppl, char_7_act, char_4_act  "
   ]
  },
  {
   "cell_type": "code",
   "execution_count": 78,
   "metadata": {
    "collapsed": true
   },
   "outputs": [],
   "source": [
    "del_feature = ['char_28', 'char_4_ppl', 'char_7_act', 'char_4_act']  \n",
    "for num in del_feature:\n",
    "    df_train = df_train.drop(num, axis=1)"
   ]
  },
  {
   "cell_type": "code",
   "execution_count": null,
   "metadata": {
    "collapsed": true
   },
   "outputs": [],
   "source": []
  },
  {
   "cell_type": "markdown",
   "metadata": {},
   "source": [
    "#### feature 속성 확인"
   ]
  },
  {
   "cell_type": "code",
   "execution_count": 79,
   "metadata": {
    "scrolled": true
   },
   "outputs": [
    {
     "data": {
      "text/plain": [
       "people_id            float64\n",
       "activity_id_type       int64\n",
       "activity_id           object\n",
       "year_act               int64\n",
       "month_act              int64\n",
       "day_act                int64\n",
       "weekday_act            int64\n",
       "activity_category      int64\n",
       "char_1_act             int64\n",
       "char_2_act             int64\n",
       "char_3_act             int64\n",
       "char_5_act             int64\n",
       "char_6_act             int64\n",
       "char_8_act             int64\n",
       "char_9_act             int64\n",
       "char_10_act            int64\n",
       "year_ppl               int64\n",
       "month_ppl              int64\n",
       "day_ppl                int64\n",
       "weekday_ppl            int64\n",
       "char_1_ppl             int64\n",
       "group_1                int64\n",
       "char_2_ppl             int64\n",
       "char_3_ppl             int64\n",
       "char_5_ppl             int64\n",
       "char_6_ppl             int64\n",
       "char_7_ppl             int64\n",
       "char_8_ppl             int64\n",
       "char_9_ppl             int64\n",
       "char_10_ppl            int64\n",
       "char_11                int64\n",
       "char_12                int64\n",
       "char_13                int64\n",
       "char_14                int64\n",
       "char_15                int64\n",
       "char_16                int64\n",
       "char_17                int64\n",
       "char_18                int64\n",
       "char_19                int64\n",
       "char_20                int64\n",
       "char_21                int64\n",
       "char_22                int64\n",
       "char_23                int64\n",
       "char_24                int64\n",
       "char_25                int64\n",
       "char_26                int64\n",
       "char_27                int64\n",
       "char_29                int64\n",
       "char_30                int64\n",
       "char_31                int64\n",
       "char_32                int64\n",
       "char_33                int64\n",
       "char_34                int64\n",
       "char_35                int64\n",
       "char_36                int64\n",
       "char_37                int64\n",
       "char_38                int64\n",
       "from_join_to_act     float64\n",
       "dtype: object"
      ]
     },
     "execution_count": 79,
     "metadata": {},
     "output_type": "execute_result"
    }
   ],
   "source": [
    "df_train.dtypes"
   ]
  },
  {
   "cell_type": "code",
   "execution_count": 128,
   "metadata": {
    "collapsed": true
   },
   "outputs": [],
   "source": [
    "import re"
   ]
  },
  {
   "cell_type": "code",
   "execution_count": 129,
   "metadata": {
    "scrolled": true
   },
   "outputs": [
    {
     "name": "stdout",
     "output_type": "stream",
     "text": [
      "index : 396743  /  e+06\n",
      "index : 513730  /  e+06\n",
      "index : 721590  /  e+05\n",
      "index : 847795  /  e+05\n",
      "index : 1459459  /  e+05\n"
     ]
    }
   ],
   "source": [
    "id_str = re.compile('e\\+[0-9]+')\n",
    "for num in range(len(df_train['activity_id'])):\n",
    "    m = id_str.search(df_train['activity_id'][num])\n",
    "    if m:\n",
    "        print('index :', num, \" / \", m.group())"
   ]
  },
  {
   "cell_type": "code",
   "execution_count": 130,
   "metadata": {},
   "outputs": [
    {
     "name": "stdout",
     "output_type": "stream",
     "text": [
      "index : 396743  /  value : e+06\n",
      "index : 513730  /  value : 4e+06\n",
      "index : 721590  /  value : e+05\n",
      "index : 847795  /  value : 5e+05\n",
      "index : 1459459  /  value : 2e+05\n"
     ]
    }
   ],
   "source": [
    "str_index = [396743, 513730, 721590, 847795, 1459459]\n",
    "for num in str_index:\n",
    "    print(\"index :\", num, \" / \", \"value :\", df_train['activity_id'][num])"
   ]
  },
  {
   "cell_type": "code",
   "execution_count": 80,
   "metadata": {
    "collapsed": true
   },
   "outputs": [],
   "source": [
    "df_train['activity_id'] = df_train['activity_id'].replace('e+06', 1000000)\n",
    "df_train['activity_id'] = df_train['activity_id'].replace('4e+06', 4000000)\n",
    "df_train['activity_id'] = df_train['activity_id'].replace('e+05', 100000)\n",
    "df_train['activity_id'] = df_train['activity_id'].replace('5e+05', 500000)\n",
    "df_train['activity_id'] = df_train['activity_id'].replace('2e+05', 200000)\n",
    "df_train['activity_id'] = df_train['activity_id'].replace('', 0)"
   ]
  },
  {
   "cell_type": "code",
   "execution_count": 81,
   "metadata": {
    "collapsed": true
   },
   "outputs": [],
   "source": [
    "df_train['activity_id'] = df_train['activity_id'].apply(pd.to_numeric, errors='ignore')"
   ]
  },
  {
   "cell_type": "code",
   "execution_count": 110,
   "metadata": {
    "collapsed": true
   },
   "outputs": [],
   "source": [
    "df_train['people_id'] = df_train['people_id'].astype(np.int64)"
   ]
  },
  {
   "cell_type": "code",
   "execution_count": 113,
   "metadata": {
    "scrolled": true
   },
   "outputs": [
    {
     "data": {
      "text/plain": [
       "people_id              int64\n",
       "activity_id_type       int64\n",
       "activity_id            int64\n",
       "year_act               int64\n",
       "month_act              int64\n",
       "day_act                int64\n",
       "weekday_act            int64\n",
       "activity_category      int64\n",
       "char_1_act             int64\n",
       "char_2_act             int64\n",
       "char_3_act             int64\n",
       "char_5_act             int64\n",
       "char_6_act             int64\n",
       "char_8_act             int64\n",
       "char_9_act             int64\n",
       "char_10_act            int64\n",
       "year_ppl               int64\n",
       "month_ppl              int64\n",
       "day_ppl                int64\n",
       "weekday_ppl            int64\n",
       "char_1_ppl             int64\n",
       "group_1                int64\n",
       "char_2_ppl             int64\n",
       "char_3_ppl             int64\n",
       "char_5_ppl             int64\n",
       "char_6_ppl             int64\n",
       "char_7_ppl             int64\n",
       "char_8_ppl             int64\n",
       "char_9_ppl             int64\n",
       "char_10_ppl            int64\n",
       "char_11                int64\n",
       "char_12                int64\n",
       "char_13                int64\n",
       "char_14                int64\n",
       "char_15                int64\n",
       "char_16                int64\n",
       "char_17                int64\n",
       "char_18                int64\n",
       "char_19                int64\n",
       "char_20                int64\n",
       "char_21                int64\n",
       "char_22                int64\n",
       "char_23                int64\n",
       "char_24                int64\n",
       "char_25                int64\n",
       "char_26                int64\n",
       "char_27                int64\n",
       "char_29                int64\n",
       "char_30                int64\n",
       "char_31                int64\n",
       "char_32                int64\n",
       "char_33                int64\n",
       "char_34                int64\n",
       "char_35                int64\n",
       "char_36                int64\n",
       "char_37                int64\n",
       "char_38                int64\n",
       "from_join_to_act     float64\n",
       "dtype: object"
      ]
     },
     "execution_count": 113,
     "metadata": {},
     "output_type": "execute_result"
    }
   ],
   "source": [
    "df_train.dtypes"
   ]
  },
  {
   "cell_type": "code",
   "execution_count": 123,
   "metadata": {
    "scrolled": true
   },
   "outputs": [
    {
     "data": {
      "text/html": [
       "<div>\n",
       "<style>\n",
       "    .dataframe thead tr:only-child th {\n",
       "        text-align: right;\n",
       "    }\n",
       "\n",
       "    .dataframe thead th {\n",
       "        text-align: left;\n",
       "    }\n",
       "\n",
       "    .dataframe tbody tr th {\n",
       "        vertical-align: top;\n",
       "    }\n",
       "</style>\n",
       "<table border=\"1\" class=\"dataframe\">\n",
       "  <thead>\n",
       "    <tr style=\"text-align: right;\">\n",
       "      <th></th>\n",
       "      <th>0</th>\n",
       "    </tr>\n",
       "  </thead>\n",
       "  <tbody>\n",
       "    <tr>\n",
       "      <th>from_join_to_act</th>\n",
       "      <td>0</td>\n",
       "    </tr>\n",
       "    <tr>\n",
       "      <th>char_9_act</th>\n",
       "      <td>0</td>\n",
       "    </tr>\n",
       "    <tr>\n",
       "      <th>char_7_ppl</th>\n",
       "      <td>0</td>\n",
       "    </tr>\n",
       "    <tr>\n",
       "      <th>char_6_ppl</th>\n",
       "      <td>0</td>\n",
       "    </tr>\n",
       "    <tr>\n",
       "      <th>char_5_ppl</th>\n",
       "      <td>0</td>\n",
       "    </tr>\n",
       "    <tr>\n",
       "      <th>char_3_ppl</th>\n",
       "      <td>0</td>\n",
       "    </tr>\n",
       "    <tr>\n",
       "      <th>char_2_ppl</th>\n",
       "      <td>0</td>\n",
       "    </tr>\n",
       "    <tr>\n",
       "      <th>group_1</th>\n",
       "      <td>0</td>\n",
       "    </tr>\n",
       "    <tr>\n",
       "      <th>char_1_ppl</th>\n",
       "      <td>0</td>\n",
       "    </tr>\n",
       "    <tr>\n",
       "      <th>weekday_ppl</th>\n",
       "      <td>0</td>\n",
       "    </tr>\n",
       "    <tr>\n",
       "      <th>day_ppl</th>\n",
       "      <td>0</td>\n",
       "    </tr>\n",
       "    <tr>\n",
       "      <th>month_ppl</th>\n",
       "      <td>0</td>\n",
       "    </tr>\n",
       "    <tr>\n",
       "      <th>year_ppl</th>\n",
       "      <td>0</td>\n",
       "    </tr>\n",
       "    <tr>\n",
       "      <th>char_10_act</th>\n",
       "      <td>0</td>\n",
       "    </tr>\n",
       "    <tr>\n",
       "      <th>char_8_act</th>\n",
       "      <td>0</td>\n",
       "    </tr>\n",
       "    <tr>\n",
       "      <th>char_38</th>\n",
       "      <td>0</td>\n",
       "    </tr>\n",
       "    <tr>\n",
       "      <th>char_6_act</th>\n",
       "      <td>0</td>\n",
       "    </tr>\n",
       "    <tr>\n",
       "      <th>char_5_act</th>\n",
       "      <td>0</td>\n",
       "    </tr>\n",
       "    <tr>\n",
       "      <th>char_3_act</th>\n",
       "      <td>0</td>\n",
       "    </tr>\n",
       "    <tr>\n",
       "      <th>char_2_act</th>\n",
       "      <td>0</td>\n",
       "    </tr>\n",
       "    <tr>\n",
       "      <th>char_1_act</th>\n",
       "      <td>0</td>\n",
       "    </tr>\n",
       "    <tr>\n",
       "      <th>activity_category</th>\n",
       "      <td>0</td>\n",
       "    </tr>\n",
       "    <tr>\n",
       "      <th>weekday_act</th>\n",
       "      <td>0</td>\n",
       "    </tr>\n",
       "    <tr>\n",
       "      <th>day_act</th>\n",
       "      <td>0</td>\n",
       "    </tr>\n",
       "    <tr>\n",
       "      <th>month_act</th>\n",
       "      <td>0</td>\n",
       "    </tr>\n",
       "    <tr>\n",
       "      <th>year_act</th>\n",
       "      <td>0</td>\n",
       "    </tr>\n",
       "    <tr>\n",
       "      <th>activity_id</th>\n",
       "      <td>0</td>\n",
       "    </tr>\n",
       "    <tr>\n",
       "      <th>activity_id_type</th>\n",
       "      <td>0</td>\n",
       "    </tr>\n",
       "    <tr>\n",
       "      <th>char_8_ppl</th>\n",
       "      <td>0</td>\n",
       "    </tr>\n",
       "    <tr>\n",
       "      <th>char_9_ppl</th>\n",
       "      <td>0</td>\n",
       "    </tr>\n",
       "    <tr>\n",
       "      <th>char_10_ppl</th>\n",
       "      <td>0</td>\n",
       "    </tr>\n",
       "    <tr>\n",
       "      <th>char_11</th>\n",
       "      <td>0</td>\n",
       "    </tr>\n",
       "    <tr>\n",
       "      <th>char_37</th>\n",
       "      <td>0</td>\n",
       "    </tr>\n",
       "    <tr>\n",
       "      <th>char_36</th>\n",
       "      <td>0</td>\n",
       "    </tr>\n",
       "    <tr>\n",
       "      <th>char_35</th>\n",
       "      <td>0</td>\n",
       "    </tr>\n",
       "    <tr>\n",
       "      <th>char_34</th>\n",
       "      <td>0</td>\n",
       "    </tr>\n",
       "    <tr>\n",
       "      <th>char_33</th>\n",
       "      <td>0</td>\n",
       "    </tr>\n",
       "    <tr>\n",
       "      <th>char_32</th>\n",
       "      <td>0</td>\n",
       "    </tr>\n",
       "    <tr>\n",
       "      <th>char_31</th>\n",
       "      <td>0</td>\n",
       "    </tr>\n",
       "    <tr>\n",
       "      <th>char_30</th>\n",
       "      <td>0</td>\n",
       "    </tr>\n",
       "    <tr>\n",
       "      <th>char_29</th>\n",
       "      <td>0</td>\n",
       "    </tr>\n",
       "    <tr>\n",
       "      <th>char_27</th>\n",
       "      <td>0</td>\n",
       "    </tr>\n",
       "    <tr>\n",
       "      <th>char_26</th>\n",
       "      <td>0</td>\n",
       "    </tr>\n",
       "    <tr>\n",
       "      <th>char_25</th>\n",
       "      <td>0</td>\n",
       "    </tr>\n",
       "    <tr>\n",
       "      <th>char_24</th>\n",
       "      <td>0</td>\n",
       "    </tr>\n",
       "    <tr>\n",
       "      <th>char_23</th>\n",
       "      <td>0</td>\n",
       "    </tr>\n",
       "    <tr>\n",
       "      <th>char_22</th>\n",
       "      <td>0</td>\n",
       "    </tr>\n",
       "    <tr>\n",
       "      <th>char_21</th>\n",
       "      <td>0</td>\n",
       "    </tr>\n",
       "    <tr>\n",
       "      <th>char_20</th>\n",
       "      <td>0</td>\n",
       "    </tr>\n",
       "    <tr>\n",
       "      <th>char_19</th>\n",
       "      <td>0</td>\n",
       "    </tr>\n",
       "    <tr>\n",
       "      <th>char_18</th>\n",
       "      <td>0</td>\n",
       "    </tr>\n",
       "    <tr>\n",
       "      <th>char_17</th>\n",
       "      <td>0</td>\n",
       "    </tr>\n",
       "    <tr>\n",
       "      <th>char_16</th>\n",
       "      <td>0</td>\n",
       "    </tr>\n",
       "    <tr>\n",
       "      <th>char_15</th>\n",
       "      <td>0</td>\n",
       "    </tr>\n",
       "    <tr>\n",
       "      <th>char_14</th>\n",
       "      <td>0</td>\n",
       "    </tr>\n",
       "    <tr>\n",
       "      <th>char_13</th>\n",
       "      <td>0</td>\n",
       "    </tr>\n",
       "    <tr>\n",
       "      <th>char_12</th>\n",
       "      <td>0</td>\n",
       "    </tr>\n",
       "    <tr>\n",
       "      <th>people_id</th>\n",
       "      <td>0</td>\n",
       "    </tr>\n",
       "  </tbody>\n",
       "</table>\n",
       "</div>"
      ],
      "text/plain": [
       "                   0\n",
       "from_join_to_act   0\n",
       "char_9_act         0\n",
       "char_7_ppl         0\n",
       "char_6_ppl         0\n",
       "char_5_ppl         0\n",
       "char_3_ppl         0\n",
       "char_2_ppl         0\n",
       "group_1            0\n",
       "char_1_ppl         0\n",
       "weekday_ppl        0\n",
       "day_ppl            0\n",
       "month_ppl          0\n",
       "year_ppl           0\n",
       "char_10_act        0\n",
       "char_8_act         0\n",
       "char_38            0\n",
       "char_6_act         0\n",
       "char_5_act         0\n",
       "char_3_act         0\n",
       "char_2_act         0\n",
       "char_1_act         0\n",
       "activity_category  0\n",
       "weekday_act        0\n",
       "day_act            0\n",
       "month_act          0\n",
       "year_act           0\n",
       "activity_id        0\n",
       "activity_id_type   0\n",
       "char_8_ppl         0\n",
       "char_9_ppl         0\n",
       "char_10_ppl        0\n",
       "char_11            0\n",
       "char_37            0\n",
       "char_36            0\n",
       "char_35            0\n",
       "char_34            0\n",
       "char_33            0\n",
       "char_32            0\n",
       "char_31            0\n",
       "char_30            0\n",
       "char_29            0\n",
       "char_27            0\n",
       "char_26            0\n",
       "char_25            0\n",
       "char_24            0\n",
       "char_23            0\n",
       "char_22            0\n",
       "char_21            0\n",
       "char_20            0\n",
       "char_19            0\n",
       "char_18            0\n",
       "char_17            0\n",
       "char_16            0\n",
       "char_15            0\n",
       "char_14            0\n",
       "char_13            0\n",
       "char_12            0\n",
       "people_id          0"
      ]
     },
     "execution_count": 123,
     "metadata": {},
     "output_type": "execute_result"
    }
   ],
   "source": [
    "pd.DataFrame(df_train.isnull().sum().sort_values(ascending=False))"
   ]
  },
  {
   "cell_type": "code",
   "execution_count": 114,
   "metadata": {},
   "outputs": [
    {
     "name": "stdout",
     "output_type": "stream",
     "text": [
      "Wall time: 2min 5s\n"
     ]
    }
   ],
   "source": [
    "%%time\n",
    "df_train.to_csv('df_train.csv')"
   ]
  },
  {
   "cell_type": "code",
   "execution_count": null,
   "metadata": {
    "collapsed": true
   },
   "outputs": [],
   "source": []
  },
  {
   "cell_type": "markdown",
   "metadata": {},
   "source": [
    "## X_test 생성"
   ]
  },
  {
   "cell_type": "code",
   "execution_count": 115,
   "metadata": {
    "scrolled": true
   },
   "outputs": [
    {
     "data": {
      "text/plain": [
       "people_id              int64\n",
       "activity_id_type       int64\n",
       "activity_id          float64\n",
       "year_act               int64\n",
       "month_act              int64\n",
       "day_act                int64\n",
       "weekday_act            int64\n",
       "activity_category      int64\n",
       "char_1_act             int64\n",
       "char_2_act             int64\n",
       "char_3_act             int64\n",
       "char_5_act             int64\n",
       "char_6_act             int64\n",
       "char_8_act             int64\n",
       "char_9_act             int64\n",
       "char_10_act            int64\n",
       "year_ppl               int64\n",
       "month_ppl              int64\n",
       "day_ppl                int64\n",
       "weekday_ppl            int64\n",
       "char_1_ppl             int64\n",
       "group_1                int64\n",
       "char_2_ppl             int64\n",
       "char_3_ppl             int64\n",
       "char_5_ppl             int64\n",
       "char_6_ppl             int64\n",
       "char_7_ppl             int64\n",
       "char_8_ppl             int64\n",
       "char_9_ppl             int64\n",
       "char_10_ppl            int64\n",
       "char_11                int64\n",
       "char_12                int64\n",
       "char_13                int64\n",
       "char_14                int64\n",
       "char_15                int64\n",
       "char_16                int64\n",
       "char_17                int64\n",
       "char_18                int64\n",
       "char_19                int64\n",
       "char_20                int64\n",
       "char_21                int64\n",
       "char_22                int64\n",
       "char_23                int64\n",
       "char_24                int64\n",
       "char_25                int64\n",
       "char_26                int64\n",
       "char_27                int64\n",
       "char_29                int64\n",
       "char_30                int64\n",
       "char_31                int64\n",
       "char_32                int64\n",
       "char_33                int64\n",
       "char_34                int64\n",
       "char_35                int64\n",
       "char_36                int64\n",
       "char_37                int64\n",
       "char_38                int64\n",
       "from_join_to_act     float64\n",
       "dtype: object"
      ]
     },
     "execution_count": 115,
     "metadata": {},
     "output_type": "execute_result"
    }
   ],
   "source": [
    "df_test.dtypes"
   ]
  },
  {
   "cell_type": "code",
   "execution_count": 119,
   "metadata": {
    "collapsed": true
   },
   "outputs": [],
   "source": [
    "df_test['activity_id'] = df_test['activity_id'].fillna(0).astype(np.int64)"
   ]
  },
  {
   "cell_type": "code",
   "execution_count": 84,
   "metadata": {
    "collapsed": true
   },
   "outputs": [],
   "source": [
    "del_feature = ['char_28', 'char_4_ppl', 'char_7_act', 'char_4_act']  \n",
    "for num in del_feature:\n",
    "    df_test = df_test.drop(num, axis=1)"
   ]
  },
  {
   "cell_type": "code",
   "execution_count": 116,
   "metadata": {},
   "outputs": [
    {
     "name": "stdout",
     "output_type": "stream",
     "text": [
      "58\n",
      "58\n"
     ]
    }
   ],
   "source": [
    "print(len(df_train.columns))\n",
    "print(len(df_test.columns))"
   ]
  },
  {
   "cell_type": "code",
   "execution_count": 121,
   "metadata": {},
   "outputs": [
    {
     "data": {
      "text/html": [
       "<div>\n",
       "<style>\n",
       "    .dataframe thead tr:only-child th {\n",
       "        text-align: right;\n",
       "    }\n",
       "\n",
       "    .dataframe thead th {\n",
       "        text-align: left;\n",
       "    }\n",
       "\n",
       "    .dataframe tbody tr th {\n",
       "        vertical-align: top;\n",
       "    }\n",
       "</style>\n",
       "<table border=\"1\" class=\"dataframe\">\n",
       "  <thead>\n",
       "    <tr style=\"text-align: right;\">\n",
       "      <th></th>\n",
       "      <th>people_id</th>\n",
       "      <th>activity_id_type</th>\n",
       "      <th>activity_id</th>\n",
       "      <th>year_act</th>\n",
       "      <th>month_act</th>\n",
       "      <th>day_act</th>\n",
       "      <th>weekday_act</th>\n",
       "      <th>activity_category</th>\n",
       "      <th>char_1_act</th>\n",
       "      <th>char_2_act</th>\n",
       "      <th>char_3_act</th>\n",
       "      <th>char_5_act</th>\n",
       "      <th>char_6_act</th>\n",
       "      <th>char_8_act</th>\n",
       "      <th>char_9_act</th>\n",
       "      <th>char_10_act</th>\n",
       "      <th>year_ppl</th>\n",
       "      <th>month_ppl</th>\n",
       "      <th>day_ppl</th>\n",
       "      <th>weekday_ppl</th>\n",
       "      <th>char_1_ppl</th>\n",
       "      <th>group_1</th>\n",
       "      <th>char_2_ppl</th>\n",
       "      <th>char_3_ppl</th>\n",
       "      <th>char_5_ppl</th>\n",
       "      <th>char_6_ppl</th>\n",
       "      <th>char_7_ppl</th>\n",
       "      <th>char_8_ppl</th>\n",
       "      <th>char_9_ppl</th>\n",
       "      <th>char_10_ppl</th>\n",
       "      <th>char_11</th>\n",
       "      <th>char_12</th>\n",
       "      <th>char_13</th>\n",
       "      <th>char_14</th>\n",
       "      <th>char_15</th>\n",
       "      <th>char_16</th>\n",
       "      <th>char_17</th>\n",
       "      <th>char_18</th>\n",
       "      <th>char_19</th>\n",
       "      <th>char_20</th>\n",
       "      <th>char_21</th>\n",
       "      <th>char_22</th>\n",
       "      <th>char_23</th>\n",
       "      <th>char_24</th>\n",
       "      <th>char_25</th>\n",
       "      <th>char_26</th>\n",
       "      <th>char_27</th>\n",
       "      <th>char_29</th>\n",
       "      <th>char_30</th>\n",
       "      <th>char_31</th>\n",
       "      <th>char_32</th>\n",
       "      <th>char_33</th>\n",
       "      <th>char_34</th>\n",
       "      <th>char_35</th>\n",
       "      <th>char_36</th>\n",
       "      <th>char_37</th>\n",
       "      <th>char_38</th>\n",
       "      <th>from_join_to_act</th>\n",
       "    </tr>\n",
       "  </thead>\n",
       "  <tbody>\n",
       "    <tr>\n",
       "      <th>498682</th>\n",
       "      <td>99997</td>\n",
       "      <td>2</td>\n",
       "      <td>4367092</td>\n",
       "      <td>2023</td>\n",
       "      <td>4</td>\n",
       "      <td>22</td>\n",
       "      <td>5</td>\n",
       "      <td>2</td>\n",
       "      <td>0</td>\n",
       "      <td>0</td>\n",
       "      <td>0</td>\n",
       "      <td>0</td>\n",
       "      <td>0</td>\n",
       "      <td>0</td>\n",
       "      <td>0</td>\n",
       "      <td>1</td>\n",
       "      <td>2022</td>\n",
       "      <td>3</td>\n",
       "      <td>12</td>\n",
       "      <td>5</td>\n",
       "      <td>2</td>\n",
       "      <td>17304</td>\n",
       "      <td>2</td>\n",
       "      <td>40</td>\n",
       "      <td>9</td>\n",
       "      <td>3</td>\n",
       "      <td>8</td>\n",
       "      <td>6</td>\n",
       "      <td>6</td>\n",
       "      <td>1</td>\n",
       "      <td>1</td>\n",
       "      <td>1</td>\n",
       "      <td>1</td>\n",
       "      <td>1</td>\n",
       "      <td>1</td>\n",
       "      <td>1</td>\n",
       "      <td>1</td>\n",
       "      <td>1</td>\n",
       "      <td>1</td>\n",
       "      <td>1</td>\n",
       "      <td>1</td>\n",
       "      <td>1</td>\n",
       "      <td>1</td>\n",
       "      <td>1</td>\n",
       "      <td>1</td>\n",
       "      <td>1</td>\n",
       "      <td>1</td>\n",
       "      <td>1</td>\n",
       "      <td>1</td>\n",
       "      <td>1</td>\n",
       "      <td>1</td>\n",
       "      <td>1</td>\n",
       "      <td>1</td>\n",
       "      <td>1</td>\n",
       "      <td>1</td>\n",
       "      <td>1</td>\n",
       "      <td>36</td>\n",
       "      <td>406.0</td>\n",
       "    </tr>\n",
       "    <tr>\n",
       "      <th>498683</th>\n",
       "      <td>99997</td>\n",
       "      <td>2</td>\n",
       "      <td>4404220</td>\n",
       "      <td>2022</td>\n",
       "      <td>11</td>\n",
       "      <td>12</td>\n",
       "      <td>5</td>\n",
       "      <td>2</td>\n",
       "      <td>0</td>\n",
       "      <td>0</td>\n",
       "      <td>0</td>\n",
       "      <td>0</td>\n",
       "      <td>0</td>\n",
       "      <td>0</td>\n",
       "      <td>0</td>\n",
       "      <td>1</td>\n",
       "      <td>2022</td>\n",
       "      <td>3</td>\n",
       "      <td>12</td>\n",
       "      <td>5</td>\n",
       "      <td>2</td>\n",
       "      <td>17304</td>\n",
       "      <td>2</td>\n",
       "      <td>40</td>\n",
       "      <td>9</td>\n",
       "      <td>3</td>\n",
       "      <td>8</td>\n",
       "      <td>6</td>\n",
       "      <td>6</td>\n",
       "      <td>1</td>\n",
       "      <td>1</td>\n",
       "      <td>1</td>\n",
       "      <td>1</td>\n",
       "      <td>1</td>\n",
       "      <td>1</td>\n",
       "      <td>1</td>\n",
       "      <td>1</td>\n",
       "      <td>1</td>\n",
       "      <td>1</td>\n",
       "      <td>1</td>\n",
       "      <td>1</td>\n",
       "      <td>1</td>\n",
       "      <td>1</td>\n",
       "      <td>1</td>\n",
       "      <td>1</td>\n",
       "      <td>1</td>\n",
       "      <td>1</td>\n",
       "      <td>1</td>\n",
       "      <td>1</td>\n",
       "      <td>1</td>\n",
       "      <td>1</td>\n",
       "      <td>1</td>\n",
       "      <td>1</td>\n",
       "      <td>1</td>\n",
       "      <td>1</td>\n",
       "      <td>1</td>\n",
       "      <td>36</td>\n",
       "      <td>245.0</td>\n",
       "    </tr>\n",
       "    <tr>\n",
       "      <th>498684</th>\n",
       "      <td>99997</td>\n",
       "      <td>2</td>\n",
       "      <td>448830</td>\n",
       "      <td>2022</td>\n",
       "      <td>8</td>\n",
       "      <td>2</td>\n",
       "      <td>1</td>\n",
       "      <td>2</td>\n",
       "      <td>0</td>\n",
       "      <td>0</td>\n",
       "      <td>0</td>\n",
       "      <td>0</td>\n",
       "      <td>0</td>\n",
       "      <td>0</td>\n",
       "      <td>0</td>\n",
       "      <td>1</td>\n",
       "      <td>2022</td>\n",
       "      <td>3</td>\n",
       "      <td>12</td>\n",
       "      <td>5</td>\n",
       "      <td>2</td>\n",
       "      <td>17304</td>\n",
       "      <td>2</td>\n",
       "      <td>40</td>\n",
       "      <td>9</td>\n",
       "      <td>3</td>\n",
       "      <td>8</td>\n",
       "      <td>6</td>\n",
       "      <td>6</td>\n",
       "      <td>1</td>\n",
       "      <td>1</td>\n",
       "      <td>1</td>\n",
       "      <td>1</td>\n",
       "      <td>1</td>\n",
       "      <td>1</td>\n",
       "      <td>1</td>\n",
       "      <td>1</td>\n",
       "      <td>1</td>\n",
       "      <td>1</td>\n",
       "      <td>1</td>\n",
       "      <td>1</td>\n",
       "      <td>1</td>\n",
       "      <td>1</td>\n",
       "      <td>1</td>\n",
       "      <td>1</td>\n",
       "      <td>1</td>\n",
       "      <td>1</td>\n",
       "      <td>1</td>\n",
       "      <td>1</td>\n",
       "      <td>1</td>\n",
       "      <td>1</td>\n",
       "      <td>1</td>\n",
       "      <td>1</td>\n",
       "      <td>1</td>\n",
       "      <td>1</td>\n",
       "      <td>1</td>\n",
       "      <td>36</td>\n",
       "      <td>143.0</td>\n",
       "    </tr>\n",
       "    <tr>\n",
       "      <th>498685</th>\n",
       "      <td>99997</td>\n",
       "      <td>2</td>\n",
       "      <td>450133</td>\n",
       "      <td>2022</td>\n",
       "      <td>8</td>\n",
       "      <td>2</td>\n",
       "      <td>1</td>\n",
       "      <td>2</td>\n",
       "      <td>0</td>\n",
       "      <td>0</td>\n",
       "      <td>0</td>\n",
       "      <td>0</td>\n",
       "      <td>0</td>\n",
       "      <td>0</td>\n",
       "      <td>0</td>\n",
       "      <td>1</td>\n",
       "      <td>2022</td>\n",
       "      <td>3</td>\n",
       "      <td>12</td>\n",
       "      <td>5</td>\n",
       "      <td>2</td>\n",
       "      <td>17304</td>\n",
       "      <td>2</td>\n",
       "      <td>40</td>\n",
       "      <td>9</td>\n",
       "      <td>3</td>\n",
       "      <td>8</td>\n",
       "      <td>6</td>\n",
       "      <td>6</td>\n",
       "      <td>1</td>\n",
       "      <td>1</td>\n",
       "      <td>1</td>\n",
       "      <td>1</td>\n",
       "      <td>1</td>\n",
       "      <td>1</td>\n",
       "      <td>1</td>\n",
       "      <td>1</td>\n",
       "      <td>1</td>\n",
       "      <td>1</td>\n",
       "      <td>1</td>\n",
       "      <td>1</td>\n",
       "      <td>1</td>\n",
       "      <td>1</td>\n",
       "      <td>1</td>\n",
       "      <td>1</td>\n",
       "      <td>1</td>\n",
       "      <td>1</td>\n",
       "      <td>1</td>\n",
       "      <td>1</td>\n",
       "      <td>1</td>\n",
       "      <td>1</td>\n",
       "      <td>1</td>\n",
       "      <td>1</td>\n",
       "      <td>1</td>\n",
       "      <td>1</td>\n",
       "      <td>1</td>\n",
       "      <td>36</td>\n",
       "      <td>143.0</td>\n",
       "    </tr>\n",
       "    <tr>\n",
       "      <th>498686</th>\n",
       "      <td>99997</td>\n",
       "      <td>2</td>\n",
       "      <td>847967</td>\n",
       "      <td>2022</td>\n",
       "      <td>10</td>\n",
       "      <td>15</td>\n",
       "      <td>5</td>\n",
       "      <td>2</td>\n",
       "      <td>0</td>\n",
       "      <td>0</td>\n",
       "      <td>0</td>\n",
       "      <td>0</td>\n",
       "      <td>0</td>\n",
       "      <td>0</td>\n",
       "      <td>0</td>\n",
       "      <td>1</td>\n",
       "      <td>2022</td>\n",
       "      <td>3</td>\n",
       "      <td>12</td>\n",
       "      <td>5</td>\n",
       "      <td>2</td>\n",
       "      <td>17304</td>\n",
       "      <td>2</td>\n",
       "      <td>40</td>\n",
       "      <td>9</td>\n",
       "      <td>3</td>\n",
       "      <td>8</td>\n",
       "      <td>6</td>\n",
       "      <td>6</td>\n",
       "      <td>1</td>\n",
       "      <td>1</td>\n",
       "      <td>1</td>\n",
       "      <td>1</td>\n",
       "      <td>1</td>\n",
       "      <td>1</td>\n",
       "      <td>1</td>\n",
       "      <td>1</td>\n",
       "      <td>1</td>\n",
       "      <td>1</td>\n",
       "      <td>1</td>\n",
       "      <td>1</td>\n",
       "      <td>1</td>\n",
       "      <td>1</td>\n",
       "      <td>1</td>\n",
       "      <td>1</td>\n",
       "      <td>1</td>\n",
       "      <td>1</td>\n",
       "      <td>1</td>\n",
       "      <td>1</td>\n",
       "      <td>1</td>\n",
       "      <td>1</td>\n",
       "      <td>1</td>\n",
       "      <td>1</td>\n",
       "      <td>1</td>\n",
       "      <td>1</td>\n",
       "      <td>1</td>\n",
       "      <td>36</td>\n",
       "      <td>217.0</td>\n",
       "    </tr>\n",
       "  </tbody>\n",
       "</table>\n",
       "</div>"
      ],
      "text/plain": [
       "        people_id  activity_id_type  activity_id  year_act  month_act  \\\n",
       "498682      99997                 2      4367092      2023          4   \n",
       "498683      99997                 2      4404220      2022         11   \n",
       "498684      99997                 2       448830      2022          8   \n",
       "498685      99997                 2       450133      2022          8   \n",
       "498686      99997                 2       847967      2022         10   \n",
       "\n",
       "        day_act  weekday_act  activity_category  char_1_act  char_2_act  \\\n",
       "498682       22            5                  2           0           0   \n",
       "498683       12            5                  2           0           0   \n",
       "498684        2            1                  2           0           0   \n",
       "498685        2            1                  2           0           0   \n",
       "498686       15            5                  2           0           0   \n",
       "\n",
       "        char_3_act  char_5_act  char_6_act  char_8_act  char_9_act  \\\n",
       "498682           0           0           0           0           0   \n",
       "498683           0           0           0           0           0   \n",
       "498684           0           0           0           0           0   \n",
       "498685           0           0           0           0           0   \n",
       "498686           0           0           0           0           0   \n",
       "\n",
       "        char_10_act  year_ppl  month_ppl  day_ppl  weekday_ppl  char_1_ppl  \\\n",
       "498682            1      2022          3       12            5           2   \n",
       "498683            1      2022          3       12            5           2   \n",
       "498684            1      2022          3       12            5           2   \n",
       "498685            1      2022          3       12            5           2   \n",
       "498686            1      2022          3       12            5           2   \n",
       "\n",
       "        group_1  char_2_ppl  char_3_ppl  char_5_ppl  char_6_ppl  char_7_ppl  \\\n",
       "498682    17304           2          40           9           3           8   \n",
       "498683    17304           2          40           9           3           8   \n",
       "498684    17304           2          40           9           3           8   \n",
       "498685    17304           2          40           9           3           8   \n",
       "498686    17304           2          40           9           3           8   \n",
       "\n",
       "        char_8_ppl  char_9_ppl  char_10_ppl  char_11  char_12  char_13  \\\n",
       "498682           6           6            1        1        1        1   \n",
       "498683           6           6            1        1        1        1   \n",
       "498684           6           6            1        1        1        1   \n",
       "498685           6           6            1        1        1        1   \n",
       "498686           6           6            1        1        1        1   \n",
       "\n",
       "        char_14  char_15  char_16  char_17  char_18  char_19  char_20  \\\n",
       "498682        1        1        1        1        1        1        1   \n",
       "498683        1        1        1        1        1        1        1   \n",
       "498684        1        1        1        1        1        1        1   \n",
       "498685        1        1        1        1        1        1        1   \n",
       "498686        1        1        1        1        1        1        1   \n",
       "\n",
       "        char_21  char_22  char_23  char_24  char_25  char_26  char_27  \\\n",
       "498682        1        1        1        1        1        1        1   \n",
       "498683        1        1        1        1        1        1        1   \n",
       "498684        1        1        1        1        1        1        1   \n",
       "498685        1        1        1        1        1        1        1   \n",
       "498686        1        1        1        1        1        1        1   \n",
       "\n",
       "        char_29  char_30  char_31  char_32  char_33  char_34  char_35  \\\n",
       "498682        1        1        1        1        1        1        1   \n",
       "498683        1        1        1        1        1        1        1   \n",
       "498684        1        1        1        1        1        1        1   \n",
       "498685        1        1        1        1        1        1        1   \n",
       "498686        1        1        1        1        1        1        1   \n",
       "\n",
       "        char_36  char_37  char_38  from_join_to_act  \n",
       "498682        1        1       36             406.0  \n",
       "498683        1        1       36             245.0  \n",
       "498684        1        1       36             143.0  \n",
       "498685        1        1       36             143.0  \n",
       "498686        1        1       36             217.0  "
      ]
     },
     "execution_count": 121,
     "metadata": {},
     "output_type": "execute_result"
    }
   ],
   "source": [
    "df_test.tail()"
   ]
  },
  {
   "cell_type": "code",
   "execution_count": 122,
   "metadata": {
    "scrolled": true
   },
   "outputs": [
    {
     "data": {
      "text/html": [
       "<div>\n",
       "<style>\n",
       "    .dataframe thead tr:only-child th {\n",
       "        text-align: right;\n",
       "    }\n",
       "\n",
       "    .dataframe thead th {\n",
       "        text-align: left;\n",
       "    }\n",
       "\n",
       "    .dataframe tbody tr th {\n",
       "        vertical-align: top;\n",
       "    }\n",
       "</style>\n",
       "<table border=\"1\" class=\"dataframe\">\n",
       "  <thead>\n",
       "    <tr style=\"text-align: right;\">\n",
       "      <th></th>\n",
       "      <th>0</th>\n",
       "    </tr>\n",
       "  </thead>\n",
       "  <tbody>\n",
       "    <tr>\n",
       "      <th>from_join_to_act</th>\n",
       "      <td>0</td>\n",
       "    </tr>\n",
       "    <tr>\n",
       "      <th>char_9_act</th>\n",
       "      <td>0</td>\n",
       "    </tr>\n",
       "    <tr>\n",
       "      <th>char_7_ppl</th>\n",
       "      <td>0</td>\n",
       "    </tr>\n",
       "    <tr>\n",
       "      <th>char_6_ppl</th>\n",
       "      <td>0</td>\n",
       "    </tr>\n",
       "    <tr>\n",
       "      <th>char_5_ppl</th>\n",
       "      <td>0</td>\n",
       "    </tr>\n",
       "    <tr>\n",
       "      <th>char_3_ppl</th>\n",
       "      <td>0</td>\n",
       "    </tr>\n",
       "    <tr>\n",
       "      <th>char_2_ppl</th>\n",
       "      <td>0</td>\n",
       "    </tr>\n",
       "    <tr>\n",
       "      <th>group_1</th>\n",
       "      <td>0</td>\n",
       "    </tr>\n",
       "    <tr>\n",
       "      <th>char_1_ppl</th>\n",
       "      <td>0</td>\n",
       "    </tr>\n",
       "    <tr>\n",
       "      <th>weekday_ppl</th>\n",
       "      <td>0</td>\n",
       "    </tr>\n",
       "    <tr>\n",
       "      <th>day_ppl</th>\n",
       "      <td>0</td>\n",
       "    </tr>\n",
       "    <tr>\n",
       "      <th>month_ppl</th>\n",
       "      <td>0</td>\n",
       "    </tr>\n",
       "    <tr>\n",
       "      <th>year_ppl</th>\n",
       "      <td>0</td>\n",
       "    </tr>\n",
       "    <tr>\n",
       "      <th>char_10_act</th>\n",
       "      <td>0</td>\n",
       "    </tr>\n",
       "    <tr>\n",
       "      <th>char_8_act</th>\n",
       "      <td>0</td>\n",
       "    </tr>\n",
       "    <tr>\n",
       "      <th>char_38</th>\n",
       "      <td>0</td>\n",
       "    </tr>\n",
       "    <tr>\n",
       "      <th>char_6_act</th>\n",
       "      <td>0</td>\n",
       "    </tr>\n",
       "    <tr>\n",
       "      <th>char_5_act</th>\n",
       "      <td>0</td>\n",
       "    </tr>\n",
       "    <tr>\n",
       "      <th>char_3_act</th>\n",
       "      <td>0</td>\n",
       "    </tr>\n",
       "    <tr>\n",
       "      <th>char_2_act</th>\n",
       "      <td>0</td>\n",
       "    </tr>\n",
       "    <tr>\n",
       "      <th>char_1_act</th>\n",
       "      <td>0</td>\n",
       "    </tr>\n",
       "    <tr>\n",
       "      <th>activity_category</th>\n",
       "      <td>0</td>\n",
       "    </tr>\n",
       "    <tr>\n",
       "      <th>weekday_act</th>\n",
       "      <td>0</td>\n",
       "    </tr>\n",
       "    <tr>\n",
       "      <th>day_act</th>\n",
       "      <td>0</td>\n",
       "    </tr>\n",
       "    <tr>\n",
       "      <th>month_act</th>\n",
       "      <td>0</td>\n",
       "    </tr>\n",
       "    <tr>\n",
       "      <th>year_act</th>\n",
       "      <td>0</td>\n",
       "    </tr>\n",
       "    <tr>\n",
       "      <th>activity_id</th>\n",
       "      <td>0</td>\n",
       "    </tr>\n",
       "    <tr>\n",
       "      <th>activity_id_type</th>\n",
       "      <td>0</td>\n",
       "    </tr>\n",
       "    <tr>\n",
       "      <th>char_8_ppl</th>\n",
       "      <td>0</td>\n",
       "    </tr>\n",
       "    <tr>\n",
       "      <th>char_9_ppl</th>\n",
       "      <td>0</td>\n",
       "    </tr>\n",
       "    <tr>\n",
       "      <th>char_10_ppl</th>\n",
       "      <td>0</td>\n",
       "    </tr>\n",
       "    <tr>\n",
       "      <th>char_11</th>\n",
       "      <td>0</td>\n",
       "    </tr>\n",
       "    <tr>\n",
       "      <th>char_37</th>\n",
       "      <td>0</td>\n",
       "    </tr>\n",
       "    <tr>\n",
       "      <th>char_36</th>\n",
       "      <td>0</td>\n",
       "    </tr>\n",
       "    <tr>\n",
       "      <th>char_35</th>\n",
       "      <td>0</td>\n",
       "    </tr>\n",
       "    <tr>\n",
       "      <th>char_34</th>\n",
       "      <td>0</td>\n",
       "    </tr>\n",
       "    <tr>\n",
       "      <th>char_33</th>\n",
       "      <td>0</td>\n",
       "    </tr>\n",
       "    <tr>\n",
       "      <th>char_32</th>\n",
       "      <td>0</td>\n",
       "    </tr>\n",
       "    <tr>\n",
       "      <th>char_31</th>\n",
       "      <td>0</td>\n",
       "    </tr>\n",
       "    <tr>\n",
       "      <th>char_30</th>\n",
       "      <td>0</td>\n",
       "    </tr>\n",
       "    <tr>\n",
       "      <th>char_29</th>\n",
       "      <td>0</td>\n",
       "    </tr>\n",
       "    <tr>\n",
       "      <th>char_27</th>\n",
       "      <td>0</td>\n",
       "    </tr>\n",
       "    <tr>\n",
       "      <th>char_26</th>\n",
       "      <td>0</td>\n",
       "    </tr>\n",
       "    <tr>\n",
       "      <th>char_25</th>\n",
       "      <td>0</td>\n",
       "    </tr>\n",
       "    <tr>\n",
       "      <th>char_24</th>\n",
       "      <td>0</td>\n",
       "    </tr>\n",
       "    <tr>\n",
       "      <th>char_23</th>\n",
       "      <td>0</td>\n",
       "    </tr>\n",
       "    <tr>\n",
       "      <th>char_22</th>\n",
       "      <td>0</td>\n",
       "    </tr>\n",
       "    <tr>\n",
       "      <th>char_21</th>\n",
       "      <td>0</td>\n",
       "    </tr>\n",
       "    <tr>\n",
       "      <th>char_20</th>\n",
       "      <td>0</td>\n",
       "    </tr>\n",
       "    <tr>\n",
       "      <th>char_19</th>\n",
       "      <td>0</td>\n",
       "    </tr>\n",
       "    <tr>\n",
       "      <th>char_18</th>\n",
       "      <td>0</td>\n",
       "    </tr>\n",
       "    <tr>\n",
       "      <th>char_17</th>\n",
       "      <td>0</td>\n",
       "    </tr>\n",
       "    <tr>\n",
       "      <th>char_16</th>\n",
       "      <td>0</td>\n",
       "    </tr>\n",
       "    <tr>\n",
       "      <th>char_15</th>\n",
       "      <td>0</td>\n",
       "    </tr>\n",
       "    <tr>\n",
       "      <th>char_14</th>\n",
       "      <td>0</td>\n",
       "    </tr>\n",
       "    <tr>\n",
       "      <th>char_13</th>\n",
       "      <td>0</td>\n",
       "    </tr>\n",
       "    <tr>\n",
       "      <th>char_12</th>\n",
       "      <td>0</td>\n",
       "    </tr>\n",
       "    <tr>\n",
       "      <th>people_id</th>\n",
       "      <td>0</td>\n",
       "    </tr>\n",
       "  </tbody>\n",
       "</table>\n",
       "</div>"
      ],
      "text/plain": [
       "                   0\n",
       "from_join_to_act   0\n",
       "char_9_act         0\n",
       "char_7_ppl         0\n",
       "char_6_ppl         0\n",
       "char_5_ppl         0\n",
       "char_3_ppl         0\n",
       "char_2_ppl         0\n",
       "group_1            0\n",
       "char_1_ppl         0\n",
       "weekday_ppl        0\n",
       "day_ppl            0\n",
       "month_ppl          0\n",
       "year_ppl           0\n",
       "char_10_act        0\n",
       "char_8_act         0\n",
       "char_38            0\n",
       "char_6_act         0\n",
       "char_5_act         0\n",
       "char_3_act         0\n",
       "char_2_act         0\n",
       "char_1_act         0\n",
       "activity_category  0\n",
       "weekday_act        0\n",
       "day_act            0\n",
       "month_act          0\n",
       "year_act           0\n",
       "activity_id        0\n",
       "activity_id_type   0\n",
       "char_8_ppl         0\n",
       "char_9_ppl         0\n",
       "char_10_ppl        0\n",
       "char_11            0\n",
       "char_37            0\n",
       "char_36            0\n",
       "char_35            0\n",
       "char_34            0\n",
       "char_33            0\n",
       "char_32            0\n",
       "char_31            0\n",
       "char_30            0\n",
       "char_29            0\n",
       "char_27            0\n",
       "char_26            0\n",
       "char_25            0\n",
       "char_24            0\n",
       "char_23            0\n",
       "char_22            0\n",
       "char_21            0\n",
       "char_20            0\n",
       "char_19            0\n",
       "char_18            0\n",
       "char_17            0\n",
       "char_16            0\n",
       "char_15            0\n",
       "char_14            0\n",
       "char_13            0\n",
       "char_12            0\n",
       "people_id          0"
      ]
     },
     "execution_count": 122,
     "metadata": {},
     "output_type": "execute_result"
    }
   ],
   "source": [
    "pd.DataFrame(df_test.isnull().sum().sort_values(ascending=False))"
   ]
  },
  {
   "cell_type": "code",
   "execution_count": 124,
   "metadata": {
    "collapsed": true
   },
   "outputs": [],
   "source": [
    "df_test.to_csv('df_test.csv')"
   ]
  },
  {
   "cell_type": "code",
   "execution_count": null,
   "metadata": {
    "collapsed": true
   },
   "outputs": [],
   "source": []
  },
  {
   "cell_type": "code",
   "execution_count": null,
   "metadata": {
    "collapsed": true
   },
   "outputs": [],
   "source": []
  },
  {
   "cell_type": "markdown",
   "metadata": {},
   "source": [
    "# 2. Modeling"
   ]
  },
  {
   "cell_type": "code",
   "execution_count": 9,
   "metadata": {
    "collapsed": true
   },
   "outputs": [],
   "source": [
    "from sklearn.model_selection import train_test_split\n",
    "from sklearn.metrics import auc"
   ]
  },
  {
   "cell_type": "code",
   "execution_count": 10,
   "metadata": {
    "collapsed": true
   },
   "outputs": [],
   "source": [
    "dfX = pd.read_csv('./df_train.csv')\n",
    "dfX_test = pd.read_csv('./df_test.csv')"
   ]
  },
  {
   "cell_type": "code",
   "execution_count": 11,
   "metadata": {
    "collapsed": true
   },
   "outputs": [],
   "source": [
    "dfX = dfX.drop('Unnamed: 0', axis=1)\n",
    "dfX_test = dfX_test.drop('Unnamed: 0', axis=1)"
   ]
  },
  {
   "cell_type": "code",
   "execution_count": 12,
   "metadata": {
    "collapsed": true
   },
   "outputs": [],
   "source": [
    "X_train, X_test, y_train, y_test = train_test_split(dfX, y, test_size=0.20, random_state=42)"
   ]
  },
  {
   "cell_type": "code",
   "execution_count": null,
   "metadata": {
    "collapsed": true
   },
   "outputs": [],
   "source": []
  },
  {
   "cell_type": "markdown",
   "metadata": {},
   "source": [
    "### (1) Logistic Regression"
   ]
  },
  {
   "cell_type": "code",
   "execution_count": 16,
   "metadata": {},
   "outputs": [
    {
     "name": "stdout",
     "output_type": "stream",
     "text": [
      "Wall time: 1min 46s\n"
     ]
    }
   ],
   "source": [
    "%%time\n",
    "model_logit = LogisticRegression().fit(X_train, y_train)"
   ]
  },
  {
   "cell_type": "code",
   "execution_count": 17,
   "metadata": {
    "collapsed": true
   },
   "outputs": [],
   "source": [
    "logit_pred = model_logit.predict(X_test)"
   ]
  },
  {
   "cell_type": "code",
   "execution_count": 18,
   "metadata": {},
   "outputs": [
    {
     "data": {
      "text/plain": [
       "0.81969153009766504"
      ]
     },
     "execution_count": 18,
     "metadata": {},
     "output_type": "execute_result"
    }
   ],
   "source": [
    "score_logit = roc_auc_score(y_test, logit_pred)\n",
    "score_logit"
   ]
  },
  {
   "cell_type": "code",
   "execution_count": null,
   "metadata": {
    "collapsed": true
   },
   "outputs": [],
   "source": []
  },
  {
   "cell_type": "markdown",
   "metadata": {
    "collapsed": true
   },
   "source": [
    "### (2) QDA / LDA"
   ]
  },
  {
   "cell_type": "code",
   "execution_count": 18,
   "metadata": {
    "collapsed": true
   },
   "outputs": [],
   "source": [
    "from sklearn.discriminant_analysis import QuadraticDiscriminantAnalysis\n",
    "from sklearn.discriminant_analysis import LinearDiscriminantAnalysis"
   ]
  },
  {
   "cell_type": "code",
   "execution_count": 20,
   "metadata": {},
   "outputs": [
    {
     "name": "stderr",
     "output_type": "stream",
     "text": [
      "C:\\Users\\tjdal\\Anaconda3\\lib\\site-packages\\sklearn\\discriminant_analysis.py:695: UserWarning: Variables are collinear\n",
      "  warnings.warn(\"Variables are collinear\")\n"
     ]
    },
    {
     "name": "stdout",
     "output_type": "stream",
     "text": [
      "Wall time: 30.5 s\n"
     ]
    }
   ],
   "source": [
    "%%time\n",
    "model_qda = QuadraticDiscriminantAnalysis().fit(X_train, y_train)\n",
    "model_lda = LinearDiscriminantAnalysis().fit(X_train, y_train)"
   ]
  },
  {
   "cell_type": "code",
   "execution_count": 21,
   "metadata": {
    "collapsed": true
   },
   "outputs": [],
   "source": [
    "qda_pred = model_qda.predict(X_test)\n",
    "lda_pred = model_lda.predict(X_test)"
   ]
  },
  {
   "cell_type": "code",
   "execution_count": 22,
   "metadata": {},
   "outputs": [
    {
     "data": {
      "text/plain": [
       "0.8484463713831415"
      ]
     },
     "execution_count": 22,
     "metadata": {},
     "output_type": "execute_result"
    }
   ],
   "source": [
    "score_qda = roc_auc_score(y_test, qda_pred)\n",
    "score_qda"
   ]
  },
  {
   "cell_type": "code",
   "execution_count": 23,
   "metadata": {},
   "outputs": [
    {
     "data": {
      "text/plain": [
       "0.84942525812102077"
      ]
     },
     "execution_count": 23,
     "metadata": {},
     "output_type": "execute_result"
    }
   ],
   "source": [
    "score_lda = roc_auc_score(y_test, lda_pred)\n",
    "score_lda"
   ]
  },
  {
   "cell_type": "code",
   "execution_count": null,
   "metadata": {
    "collapsed": true
   },
   "outputs": [],
   "source": []
  },
  {
   "cell_type": "markdown",
   "metadata": {},
   "source": [
    "### (3) Gaussian NB"
   ]
  },
  {
   "cell_type": "code",
   "execution_count": 24,
   "metadata": {
    "collapsed": true
   },
   "outputs": [],
   "source": [
    "clf_norm = GaussianNB().fit(X_train, y_train)"
   ]
  },
  {
   "cell_type": "code",
   "execution_count": 25,
   "metadata": {
    "collapsed": true
   },
   "outputs": [],
   "source": [
    "norm_pred = clf_norm.predict(X_test)"
   ]
  },
  {
   "cell_type": "code",
   "execution_count": 26,
   "metadata": {},
   "outputs": [
    {
     "data": {
      "text/plain": [
       "0.74290968083171183"
      ]
     },
     "execution_count": 26,
     "metadata": {},
     "output_type": "execute_result"
    }
   ],
   "source": [
    "score_norm = roc_auc_score(y_test, norm_pred)\n",
    "score_norm"
   ]
  },
  {
   "cell_type": "code",
   "execution_count": null,
   "metadata": {
    "collapsed": true
   },
   "outputs": [],
   "source": []
  },
  {
   "cell_type": "markdown",
   "metadata": {},
   "source": [
    "### (4) Multinomial NB"
   ]
  },
  {
   "cell_type": "code",
   "execution_count": 27,
   "metadata": {},
   "outputs": [
    {
     "name": "stdout",
     "output_type": "stream",
     "text": [
      "Wall time: 1.71 s\n"
     ]
    }
   ],
   "source": [
    "%%time\n",
    "clf_mult = MultinomialNB().fit(X_train, y_train)"
   ]
  },
  {
   "cell_type": "code",
   "execution_count": 28,
   "metadata": {
    "collapsed": true
   },
   "outputs": [],
   "source": [
    "mult_pred = clf_mult.predict(X_test)"
   ]
  },
  {
   "cell_type": "code",
   "execution_count": 29,
   "metadata": {},
   "outputs": [
    {
     "data": {
      "text/plain": [
       "0.74290968083171183"
      ]
     },
     "execution_count": 29,
     "metadata": {},
     "output_type": "execute_result"
    }
   ],
   "source": [
    "score_norm = roc_auc_score(y_test, norm_pred)\n",
    "score_norm"
   ]
  },
  {
   "cell_type": "code",
   "execution_count": null,
   "metadata": {
    "collapsed": true
   },
   "outputs": [],
   "source": []
  },
  {
   "cell_type": "markdown",
   "metadata": {},
   "source": [
    "### (5) Decision Tree"
   ]
  },
  {
   "cell_type": "code",
   "execution_count": 73,
   "metadata": {
    "collapsed": true
   },
   "outputs": [],
   "source": [
    "def tree_depth_cv(start_num, last_num):\n",
    "    for num in range(start_num, last_num):\n",
    "        clf_tree = DecisionTreeClassifier(criterion='entropy', max_depth=num).fit(X_train, y_train)\n",
    "        tree_pred = clf_tree.predict(X_test)\n",
    "        score_tree = roc_auc_score(y_test, tree_pred)\n",
    "        print('max_depth', num, \"roc_auc :\", score_tree)"
   ]
  },
  {
   "cell_type": "code",
   "execution_count": 76,
   "metadata": {},
   "outputs": [
    {
     "name": "stdout",
     "output_type": "stream",
     "text": [
      "max_depth 4 roc_auc : 0.847964153961\n",
      "max_depth 5 roc_auc : 0.857940499621\n",
      "max_depth 6 roc_auc : 0.85732693423\n",
      "max_depth 7 roc_auc : 0.869228405685\n",
      "max_depth 8 roc_auc : 0.872955283524\n",
      "max_depth 9 roc_auc : 0.87775084123\n",
      "max_depth 10 roc_auc : 0.882876957192\n",
      "max_depth 11 roc_auc : 0.887650374013\n",
      "max_depth 12 roc_auc : 0.894765060338\n",
      "max_depth 13 roc_auc : 0.900993494643\n",
      "max_depth 14 roc_auc : 0.907827748908\n",
      "max_depth 15 roc_auc : 0.916984640805\n",
      "Wall time: 9min 56s\n"
     ]
    }
   ],
   "source": [
    "%%time\n",
    "tree_depth_cv(4, 16)"
   ]
  },
  {
   "cell_type": "code",
   "execution_count": 17,
   "metadata": {
    "collapsed": true
   },
   "outputs": [],
   "source": [
    "from sklearn.model_selection import cross_val_score\n",
    "from sklearn.model_selection import KFold"
   ]
  },
  {
   "cell_type": "code",
   "execution_count": 79,
   "metadata": {
    "collapsed": true
   },
   "outputs": [],
   "source": [
    "model_tree = DecisionTreeClassifier(criterion='entropy', max_depth=15)\n",
    "cv = KFold(10)"
   ]
  },
  {
   "cell_type": "code",
   "execution_count": 80,
   "metadata": {},
   "outputs": [
    {
     "data": {
      "text/plain": [
       "array([ 0.93301923,  0.9139052 ,  0.91814841,  0.91622672,  0.92232743,\n",
       "        0.95160699,  0.91479927,  0.91627849,  0.91769192,  0.91131418])"
      ]
     },
     "execution_count": 80,
     "metadata": {},
     "output_type": "execute_result"
    }
   ],
   "source": [
    "cross_val_score(model_tree, dfX, y, scoring=\"roc_auc\", cv=cv)"
   ]
  },
  {
   "cell_type": "code",
   "execution_count": null,
   "metadata": {
    "collapsed": true
   },
   "outputs": [],
   "source": []
  },
  {
   "cell_type": "markdown",
   "metadata": {},
   "source": [
    "### (6) Random Forest / Extra Tree"
   ]
  },
  {
   "cell_type": "code",
   "execution_count": 16,
   "metadata": {
    "collapsed": true
   },
   "outputs": [],
   "source": [
    "from sklearn.ensemble import RandomForestClassifier, ExtraTreesClassifier"
   ]
  },
  {
   "cell_type": "code",
   "execution_count": 85,
   "metadata": {
    "collapsed": true
   },
   "outputs": [],
   "source": [
    "def forest_depth_cv(start_num, last_num):\n",
    "    for num in range(start_num, last_num):\n",
    "        clf_forest = RandomForestClassifier(max_depth=num).fit(X_train, y_train)\n",
    "        forest_pred = clf_forest.predict(X_test)\n",
    "        score_forest = roc_auc_score(y_test, forest_pred)\n",
    "        print('max_depth', num, \"roc_auc :\", score_forest)"
   ]
  },
  {
   "cell_type": "code",
   "execution_count": 86,
   "metadata": {
    "collapsed": true
   },
   "outputs": [],
   "source": [
    "def extra_depth_cv(start_num, last_num):\n",
    "    for num in range(start_num, last_num):\n",
    "        clf_extra = ExtraTreesClassifier(max_depth=num).fit(X_train, y_train)\n",
    "        extra_pred = clf_extra.predict(X_test)\n",
    "        score_extra = roc_auc_score(y_test, extra_pred)\n",
    "        print('max_depth', num, \"roc_auc :\", score_extra)"
   ]
  },
  {
   "cell_type": "code",
   "execution_count": 87,
   "metadata": {},
   "outputs": [
    {
     "name": "stdout",
     "output_type": "stream",
     "text": [
      "max_depth 4 roc_auc : 0.851426404994\n",
      "max_depth 5 roc_auc : 0.8483555663\n",
      "max_depth 6 roc_auc : 0.85855364241\n",
      "max_depth 7 roc_auc : 0.861371785403\n",
      "max_depth 8 roc_auc : 0.866959875234\n",
      "max_depth 9 roc_auc : 0.876028689194\n",
      "max_depth 10 roc_auc : 0.876114416837\n",
      "max_depth 11 roc_auc : 0.885906584748\n",
      "max_depth 12 roc_auc : 0.898429728656\n",
      "max_depth 13 roc_auc : 0.900752626958\n",
      "max_depth 14 roc_auc : 0.91566384838\n",
      "max_depth 15 roc_auc : 0.925988047006\n",
      "Wall time: 13min 41s\n"
     ]
    }
   ],
   "source": [
    "%%time\n",
    "forest_depth_cv(4, 16)"
   ]
  },
  {
   "cell_type": "code",
   "execution_count": 89,
   "metadata": {
    "collapsed": true
   },
   "outputs": [],
   "source": [
    "model_forest = RandomForestClassifier(max_depth=15)\n",
    "cv = KFold(10)"
   ]
  },
  {
   "cell_type": "code",
   "execution_count": 90,
   "metadata": {},
   "outputs": [
    {
     "name": "stdout",
     "output_type": "stream",
     "text": [
      "Wall time: 9min 24s\n"
     ]
    },
    {
     "data": {
      "text/plain": [
       "array([ 0.95297259,  0.93329085,  0.92751301,  0.92515409,  0.93576942,\n",
       "        0.96128846,  0.93352199,  0.95356465,  0.93863979,  0.91363566])"
      ]
     },
     "execution_count": 90,
     "metadata": {},
     "output_type": "execute_result"
    }
   ],
   "source": [
    "%%time\n",
    "cross_val_score(model_forest, dfX, y, scoring=\"roc_auc\", cv=cv)"
   ]
  },
  {
   "cell_type": "code",
   "execution_count": 142,
   "metadata": {},
   "outputs": [
    {
     "name": "stdout",
     "output_type": "stream",
     "text": [
      "max_depth 4 roc_auc : 0.764296861902\n",
      "max_depth 5 roc_auc : 0.806148374892\n",
      "max_depth 6 roc_auc : 0.796401002579\n",
      "max_depth 7 roc_auc : 0.834317272946\n",
      "max_depth 8 roc_auc : 0.835493922279\n",
      "max_depth 9 roc_auc : 0.854304677233\n",
      "max_depth 10 roc_auc : 0.866282534095\n",
      "max_depth 11 roc_auc : 0.872890201047\n",
      "max_depth 12 roc_auc : 0.876869755431\n",
      "max_depth 13 roc_auc : 0.890649080452\n",
      "max_depth 14 roc_auc : 0.894783985885\n",
      "max_depth 15 roc_auc : 0.902485102164\n",
      "Wall time: 8min 58s\n"
     ]
    }
   ],
   "source": [
    "%%time\n",
    "extra_depth_cv(4, 16)"
   ]
  },
  {
   "cell_type": "code",
   "execution_count": 143,
   "metadata": {
    "collapsed": true
   },
   "outputs": [],
   "source": [
    "model_extra = ExtraTreesClassifier(max_depth=15)\n",
    "cv = KFold(10)"
   ]
  },
  {
   "cell_type": "code",
   "execution_count": 145,
   "metadata": {},
   "outputs": [
    {
     "name": "stdout",
     "output_type": "stream",
     "text": [
      "Wall time: 2h 18min 12s\n"
     ]
    },
    {
     "data": {
      "text/plain": [
       "array([ 0.95334965,  0.92182121,  0.9176043 ,  0.92014351,  0.92447981,\n",
       "        0.95650228,  0.92757451,  0.95168339,  0.93040021,  0.91436364])"
      ]
     },
     "execution_count": 145,
     "metadata": {},
     "output_type": "execute_result"
    }
   ],
   "source": [
    "%%time\n",
    "cross_val_score(model_extra, dfX, y, scoring=\"roc_auc\", cv=cv)"
   ]
  },
  {
   "cell_type": "code",
   "execution_count": null,
   "metadata": {
    "collapsed": true
   },
   "outputs": [],
   "source": []
  },
  {
   "cell_type": "code",
   "execution_count": null,
   "metadata": {
    "collapsed": true
   },
   "outputs": [],
   "source": []
  },
  {
   "cell_type": "markdown",
   "metadata": {},
   "source": [
    "### importances"
   ]
  },
  {
   "cell_type": "code",
   "execution_count": 147,
   "metadata": {
    "collapsed": true
   },
   "outputs": [],
   "source": [
    "fit_model_forest = RandomForestClassifier(max_depth=15).fit(X_train, y_train)\n",
    "fit_model_extra = ExtraTreesClassifier(max_depth=15).fit(X_train, y_train)"
   ]
  },
  {
   "cell_type": "code",
   "execution_count": 148,
   "metadata": {
    "collapsed": true
   },
   "outputs": [],
   "source": [
    "importances_forest = fit_model_forest.feature_importances_\n",
    "importances_extra = fit_model_extra.feature_importances_"
   ]
  },
  {
   "cell_type": "code",
   "execution_count": 149,
   "metadata": {
    "collapsed": true
   },
   "outputs": [],
   "source": [
    "indices_forest = np.argsort(importances_forest)[::-1]\n",
    "indices_extra = np.argsort(importances_extra)[::-1]"
   ]
  },
  {
   "cell_type": "code",
   "execution_count": 153,
   "metadata": {
    "scrolled": true
   },
   "outputs": [
    {
     "name": "stdout",
     "output_type": "stream",
     "text": [
      "1. feature 57 : char_38 (0.340481)\n",
      "2. feature 22 : group_1 (0.204389)\n",
      "3. feature 23 : char_2_ppl (0.100308)\n",
      "4. feature 53 : char_34 (0.043149)\n",
      "5. feature 28 : char_8_ppl (0.040801)\n",
      "6. feature 27 : char_7_ppl (0.035768)\n",
      "7. feature 26 : char_6_ppl (0.028346)\n",
      "8. feature 29 : char_9_ppl (0.023446)\n",
      "9. feature 0 : Unnamed: 0 (0.013318)\n",
      "10. feature 19 : day_ppl (0.012203)\n",
      "11. feature 34 : char_14 (0.011033)\n",
      "12. feature 1 : people_id (0.010911)\n",
      "13. feature 58 : from_join_to_act (0.009720)\n",
      "14. feature 24 : char_3_ppl (0.009265)\n",
      "15. feature 18 : month_ppl (0.008427)\n",
      "16. feature 36 : char_16 (0.007754)\n",
      "17. feature 45 : char_25 (0.007510)\n",
      "18. feature 25 : char_5_ppl (0.007355)\n",
      "19. feature 20 : weekday_ppl (0.005818)\n",
      "20. feature 50 : char_31 (0.005175)\n",
      "21. feature 55 : char_36 (0.005063)\n",
      "22. feature 17 : year_ppl (0.004630)\n",
      "23. feature 33 : char_13 (0.003719)\n",
      "24. feature 47 : char_27 (0.003400)\n",
      "25. feature 30 : char_10_ppl (0.003274)\n",
      "26. feature 21 : char_1_ppl (0.003168)\n",
      "27. feature 6 : day_act (0.003165)\n",
      "28. feature 5 : month_act (0.003143)\n",
      "29. feature 16 : char_10_act (0.002822)\n",
      "30. feature 40 : char_20 (0.002781)\n",
      "31. feature 51 : char_32 (0.002703)\n",
      "32. feature 52 : char_33 (0.002611)\n",
      "33. feature 31 : char_11 (0.002274)\n",
      "34. feature 38 : char_18 (0.002231)\n",
      "35. feature 48 : char_29 (0.002226)\n",
      "36. feature 56 : char_37 (0.002074)\n",
      "37. feature 54 : char_35 (0.002045)\n",
      "38. feature 4 : year_act (0.002016)\n",
      "39. feature 39 : char_19 (0.002001)\n",
      "40. feature 49 : char_30 (0.001849)\n",
      "41. feature 37 : char_17 (0.001842)\n",
      "42. feature 8 : activity_category (0.001828)\n",
      "43. feature 43 : char_23 (0.001804)\n",
      "44. feature 35 : char_15 (0.001719)\n",
      "45. feature 46 : char_26 (0.001662)\n",
      "46. feature 42 : char_22 (0.001657)\n",
      "47. feature 32 : char_12 (0.001648)\n",
      "48. feature 44 : char_24 (0.001600)\n",
      "49. feature 41 : char_21 (0.001433)\n",
      "50. feature 7 : weekday_act (0.000617)\n",
      "51. feature 3 : activity_id (0.000426)\n",
      "52. feature 12 : char_5_act (0.000297)\n",
      "53. feature 9 : char_1_act (0.000204)\n",
      "54. feature 15 : char_9_act (0.000193)\n",
      "55. feature 11 : char_3_act (0.000180)\n",
      "56. feature 10 : char_2_act (0.000165)\n",
      "57. feature 14 : char_8_act (0.000156)\n",
      "58. feature 13 : char_6_act (0.000132)\n",
      "59. feature 2 : activity_id_type (0.000067)\n"
     ]
    }
   ],
   "source": [
    "# random forest의 importance\n",
    "\n",
    "for f in range(dfX.shape[1]):\n",
    "    print(\"%d. feature %d : %s (%f)\" % (f + 1, indices_forest[f], dfX.keys()[indices_forest[f]], importances_forest[indices_forest[f]]))"
   ]
  },
  {
   "cell_type": "code",
   "execution_count": 154,
   "metadata": {
    "scrolled": true
   },
   "outputs": [
    {
     "name": "stdout",
     "output_type": "stream",
     "text": [
      "1. feature 23 : char_2_ppl (0.227132)\n",
      "2. feature 57 : char_38 (0.198528)\n",
      "3. feature 22 : group_1 (0.043227)\n",
      "4. feature 33 : char_13 (0.040249)\n",
      "5. feature 26 : char_6_ppl (0.036777)\n",
      "6. feature 53 : char_34 (0.035551)\n",
      "7. feature 56 : char_37 (0.030172)\n",
      "8. feature 28 : char_8_ppl (0.029568)\n",
      "9. feature 55 : char_36 (0.026445)\n",
      "10. feature 21 : char_1_ppl (0.025826)\n",
      "11. feature 45 : char_25 (0.024788)\n",
      "12. feature 29 : char_9_ppl (0.019890)\n",
      "13. feature 37 : char_17 (0.018249)\n",
      "14. feature 39 : char_19 (0.017394)\n",
      "15. feature 51 : char_32 (0.017272)\n",
      "16. feature 27 : char_7_ppl (0.016643)\n",
      "17. feature 19 : day_ppl (0.013324)\n",
      "18. feature 31 : char_11 (0.012731)\n",
      "19. feature 47 : char_27 (0.012183)\n",
      "20. feature 24 : char_3_ppl (0.008199)\n",
      "21. feature 18 : month_ppl (0.007442)\n",
      "22. feature 30 : char_10_ppl (0.007305)\n",
      "23. feature 34 : char_14 (0.007010)\n",
      "24. feature 48 : char_29 (0.006936)\n",
      "25. feature 40 : char_20 (0.006326)\n",
      "26. feature 43 : char_23 (0.006130)\n",
      "27. feature 0 : Unnamed: 0 (0.006034)\n",
      "28. feature 1 : people_id (0.005925)\n",
      "29. feature 25 : char_5_ppl (0.005845)\n",
      "30. feature 17 : year_ppl (0.005671)\n",
      "31. feature 32 : char_12 (0.005336)\n",
      "32. feature 54 : char_35 (0.005104)\n",
      "33. feature 4 : year_act (0.004958)\n",
      "34. feature 46 : char_26 (0.004837)\n",
      "35. feature 58 : from_join_to_act (0.004648)\n",
      "36. feature 35 : char_15 (0.004621)\n",
      "37. feature 20 : weekday_ppl (0.004565)\n",
      "38. feature 42 : char_22 (0.004473)\n",
      "39. feature 50 : char_31 (0.004457)\n",
      "40. feature 36 : char_16 (0.004456)\n",
      "41. feature 49 : char_30 (0.004263)\n",
      "42. feature 52 : char_33 (0.004261)\n",
      "43. feature 38 : char_18 (0.004154)\n",
      "44. feature 5 : month_act (0.003990)\n",
      "45. feature 7 : weekday_act (0.003727)\n",
      "46. feature 44 : char_24 (0.003414)\n",
      "47. feature 41 : char_21 (0.003401)\n",
      "48. feature 8 : activity_category (0.001920)\n",
      "49. feature 6 : day_act (0.001686)\n",
      "50. feature 16 : char_10_act (0.001117)\n",
      "51. feature 2 : activity_id_type (0.000407)\n",
      "52. feature 13 : char_6_act (0.000295)\n",
      "53. feature 12 : char_5_act (0.000228)\n",
      "54. feature 10 : char_2_act (0.000192)\n",
      "55. feature 11 : char_3_act (0.000179)\n",
      "56. feature 15 : char_9_act (0.000171)\n",
      "57. feature 14 : char_8_act (0.000170)\n",
      "58. feature 9 : char_1_act (0.000110)\n",
      "59. feature 3 : activity_id (0.000092)\n"
     ]
    }
   ],
   "source": [
    "# extra tree의 importance\n",
    "\n",
    "for f in range(dfX.shape[1]):\n",
    "    print(\"%d. feature %d : %s (%f)\" % (f + 1, indices_extra[f], dfX.keys()[indices_extra[f]], importances_extra[indices_extra[f]]))"
   ]
  },
  {
   "cell_type": "code",
   "execution_count": null,
   "metadata": {
    "collapsed": true
   },
   "outputs": [],
   "source": []
  },
  {
   "cell_type": "markdown",
   "metadata": {},
   "source": [
    "### (7) XGboost"
   ]
  },
  {
   "cell_type": "code",
   "execution_count": 15,
   "metadata": {},
   "outputs": [
    {
     "name": "stderr",
     "output_type": "stream",
     "text": [
      "C:\\Users\\tjdal\\Anaconda3\\lib\\site-packages\\sklearn\\cross_validation.py:44: DeprecationWarning: This module was deprecated in version 0.18 in favor of the model_selection module into which all the refactored classes and functions are moved. Also note that the interface of the new CV iterators are different from that of this module. This module will be removed in 0.20.\n",
      "  \"This module will be removed in 0.20.\", DeprecationWarning)\n"
     ]
    }
   ],
   "source": [
    "from xgboost import XGBClassifier"
   ]
  },
  {
   "cell_type": "code",
   "execution_count": 158,
   "metadata": {},
   "outputs": [
    {
     "name": "stdout",
     "output_type": "stream",
     "text": [
      "Wall time: 3min 42s\n"
     ]
    }
   ],
   "source": [
    "%%time\n",
    "xgb = XGBClassifier().fit(X_train, y_train)"
   ]
  },
  {
   "cell_type": "code",
   "execution_count": 159,
   "metadata": {
    "collapsed": true
   },
   "outputs": [],
   "source": [
    "xgb_pred = xgb.predict(X_test)"
   ]
  },
  {
   "cell_type": "code",
   "execution_count": 160,
   "metadata": {},
   "outputs": [
    {
     "data": {
      "text/plain": [
       "0.87554826050304957"
      ]
     },
     "execution_count": 160,
     "metadata": {},
     "output_type": "execute_result"
    }
   ],
   "source": [
    "score_xgb = roc_auc_score(y_test, xgb_pred)\n",
    "score_xgb"
   ]
  },
  {
   "cell_type": "code",
   "execution_count": 11,
   "metadata": {
    "collapsed": true
   },
   "outputs": [],
   "source": [
    "def xgb_depth_cv(start_num, last_num):\n",
    "    for num in range(start_num, last_num):\n",
    "        clf_xgb = XGBClassifier(max_depth=num).fit(X_train, y_train)\n",
    "        xgb_pred = clf_xgb.predict(X_test)\n",
    "        score_xgb = roc_auc_score(y_test, xgb_pred)\n",
    "        print('max_depth', num, \"roc_auc :\", score_xgb)"
   ]
  },
  {
   "cell_type": "code",
   "execution_count": 12,
   "metadata": {},
   "outputs": [
    {
     "name": "stdout",
     "output_type": "stream",
     "text": [
      "max_depth 4 roc_auc : 0.880805518293\n",
      "max_depth 5 roc_auc : 0.886237835939\n",
      "max_depth 6 roc_auc : 0.894063783836\n",
      "max_depth 7 roc_auc : 0.902763827277\n",
      "max_depth 8 roc_auc : 0.912608216242\n",
      "max_depth 9 roc_auc : 0.929702050162\n",
      "max_depth 10 roc_auc : 0.941208316548\n",
      "max_depth 11 roc_auc : 0.952275710772\n",
      "max_depth 12 roc_auc : 0.964963433399\n",
      "max_depth 13 roc_auc : 0.975402867733\n",
      "max_depth 14 roc_auc : 0.981144819305\n",
      "max_depth 15 roc_auc : 0.985586124611\n",
      "Wall time: 6h 14min 46s\n"
     ]
    }
   ],
   "source": [
    "%%time\n",
    "xgb_depth_cv(4, 16)"
   ]
  },
  {
   "cell_type": "code",
   "execution_count": 15,
   "metadata": {
    "collapsed": true
   },
   "outputs": [],
   "source": [
    "model_xgb = XGBClassifier(max_depth=15)\n",
    "cv = KFold(10)"
   ]
  },
  {
   "cell_type": "code",
   "execution_count": 16,
   "metadata": {},
   "outputs": [
    {
     "name": "stdout",
     "output_type": "stream",
     "text": [
      "Wall time: 2h 51min 47s\n"
     ]
    },
    {
     "data": {
      "text/plain": [
       "array([ 0.96943006,  0.95558905,  0.95386729,  0.95302876,  0.95916341,\n",
       "        0.97666811,  0.95515991,  0.73373593,  0.95916279,  0.94600736])"
      ]
     },
     "execution_count": 16,
     "metadata": {},
     "output_type": "execute_result"
    }
   ],
   "source": [
    "%%time\n",
    "cross_val_score(model_xgb, dfX, y, scoring=\"roc_auc\", cv=cv)"
   ]
  },
  {
   "cell_type": "code",
   "execution_count": null,
   "metadata": {
    "collapsed": true
   },
   "outputs": [],
   "source": []
  },
  {
   "cell_type": "code",
   "execution_count": null,
   "metadata": {
    "collapsed": true
   },
   "outputs": [],
   "source": []
  },
  {
   "cell_type": "markdown",
   "metadata": {},
   "source": [
    "# 3. Predict"
   ]
  },
  {
   "cell_type": "markdown",
   "metadata": {},
   "source": [
    "### 모델 별 'roc_auc' 확인"
   ]
  },
  {
   "cell_type": "markdown",
   "metadata": {},
   "source": [
    "1. Logistic Regression : 0.81977578707364129\n",
    "2. QDA : 0.84836803000416583\n",
    "3. LDA : 0.8494365670929438\n",
    "4. GNB : 0.74290032673068318\n",
    "5. MNB : 0.74290032673068318\n",
    "6. Decision Tree (depth 1 / 15 ) : 0.847964153961 / 0.916984640805\n",
    "7. Random Forest (depth 1 / 15 ) : 0.851426404994 / 0.925988047006\n",
    "8. Extra Tree (depth 1 / 15 ) : 0.764296861902 / 0.902485102164\n",
    "9. XGBoost (depth 1 / 15 ) : 0.880805518293 / 0.985586124611"
   ]
  },
  {
   "cell_type": "markdown",
   "metadata": {},
   "source": [
    "###  모델 중 'roc_auc' 가 0.8 이상인 것으로 votingclassifier"
   ]
  },
  {
   "cell_type": "code",
   "execution_count": 13,
   "metadata": {
    "collapsed": true
   },
   "outputs": [],
   "source": [
    "from sklearn.ensemble import VotingClassifier"
   ]
  },
  {
   "cell_type": "code",
   "execution_count": 19,
   "metadata": {},
   "outputs": [],
   "source": [
    "LOG = LogisticRegression()\n",
    "QDA = QuadraticDiscriminantAnalysis()\n",
    "LDA = LinearDiscriminantAnalysis()\n",
    "DTC = DecisionTreeClassifier() \n",
    "RFC = RandomForestClassifier()\n",
    "ETC = ExtraTreesClassifier()\n",
    "XGB = XGBClassifier()"
   ]
  },
  {
   "cell_type": "code",
   "execution_count": 20,
   "metadata": {
    "collapsed": true
   },
   "outputs": [],
   "source": [
    "DTC_15 = DecisionTreeClassifier(max_depth=15) \n",
    "RFC_15 = RandomForestClassifier(max_depth=15)\n",
    "ETC_15 = ExtraTreesClassifier(max_depth=15)\n",
    "XGB_15 = XGBClassifier(max_depth=15)"
   ]
  },
  {
   "cell_type": "code",
   "execution_count": null,
   "metadata": {
    "collapsed": true
   },
   "outputs": [],
   "source": []
  },
  {
   "cell_type": "markdown",
   "metadata": {},
   "source": [
    "### All Model"
   ]
  },
  {
   "cell_type": "code",
   "execution_count": 21,
   "metadata": {
    "collapsed": true
   },
   "outputs": [],
   "source": [
    "all_clf = VotingClassifier(estimators=[('LOG', LOG), ('QDA', QDA), ('LDA', LDA), ('DTC', DTC), \n",
    "                                     ('RFC', RFC), ('ETC',ETC), ('XGB',XGB)], voting='soft')"
   ]
  },
  {
   "cell_type": "code",
   "execution_count": 31,
   "metadata": {},
   "outputs": [
    {
     "name": "stderr",
     "output_type": "stream",
     "text": [
      "C:\\Users\\tjdal\\Anaconda3\\lib\\site-packages\\sklearn\\discriminant_analysis.py:695: UserWarning: Variables are collinear\n",
      "  warnings.warn(\"Variables are collinear\")\n"
     ]
    },
    {
     "name": "stdout",
     "output_type": "stream",
     "text": [
      "Wall time: 10min 3s\n"
     ]
    },
    {
     "data": {
      "text/plain": [
       "VotingClassifier(estimators=[('LOG', LogisticRegression(C=1.0, class_weight=None, dual=False, fit_intercept=True,\n",
       "          intercept_scaling=1, max_iter=100, multi_class='ovr', n_jobs=1,\n",
       "          penalty='l2', random_state=None, solver='liblinear', tol=0.0001,\n",
       "          verbose=0, warm_start=False)), ('QDA', Quadr...logistic', reg_alpha=0, reg_lambda=1,\n",
       "       scale_pos_weight=1, seed=0, silent=True, subsample=1))],\n",
       "         n_jobs=1, voting='soft', weights=None)"
      ]
     },
     "execution_count": 31,
     "metadata": {},
     "output_type": "execute_result"
    }
   ],
   "source": [
    "%%time\n",
    "all_clf.fit(X_train, y_train)"
   ]
  },
  {
   "cell_type": "code",
   "execution_count": 32,
   "metadata": {
    "collapsed": true
   },
   "outputs": [],
   "source": [
    "all_clf_pred = all_clf.predict(X_test)"
   ]
  },
  {
   "cell_type": "code",
   "execution_count": 33,
   "metadata": {},
   "outputs": [
    {
     "data": {
      "text/plain": [
       "0.96749020543769404"
      ]
     },
     "execution_count": 33,
     "metadata": {},
     "output_type": "execute_result"
    }
   ],
   "source": [
    "score_all = roc_auc_score(y_test, all_clf_pred)\n",
    "score_all"
   ]
  },
  {
   "cell_type": "code",
   "execution_count": null,
   "metadata": {
    "collapsed": true
   },
   "outputs": [],
   "source": []
  },
  {
   "cell_type": "markdown",
   "metadata": {},
   "source": [
    "### Decision Tree / Random Forest / Extra Tree : max_depth 1"
   ]
  },
  {
   "cell_type": "code",
   "execution_count": 34,
   "metadata": {
    "collapsed": true
   },
   "outputs": [],
   "source": [
    "tree_clf = VotingClassifier(estimators=[('DTC', DTC), ('RFC', RFC), ('ETC',ETC), ('XGB',XGB)], voting='soft')"
   ]
  },
  {
   "cell_type": "code",
   "execution_count": 35,
   "metadata": {},
   "outputs": [
    {
     "name": "stdout",
     "output_type": "stream",
     "text": [
      "Wall time: 7min 29s\n"
     ]
    },
    {
     "data": {
      "text/plain": [
       "VotingClassifier(estimators=[('DTC', DecisionTreeClassifier(class_weight=None, criterion='gini', max_depth=None,\n",
       "            max_features=None, max_leaf_nodes=None,\n",
       "            min_impurity_split=1e-07, min_samples_leaf=1,\n",
       "            min_samples_split=2, min_weight_fraction_leaf=0.0,\n",
       "            presort=False, rand...logistic', reg_alpha=0, reg_lambda=1,\n",
       "       scale_pos_weight=1, seed=0, silent=True, subsample=1))],\n",
       "         n_jobs=1, voting='soft', weights=None)"
      ]
     },
     "execution_count": 35,
     "metadata": {},
     "output_type": "execute_result"
    }
   ],
   "source": [
    "%%time\n",
    "tree_clf.fit(X_train, y_train)"
   ]
  },
  {
   "cell_type": "code",
   "execution_count": 36,
   "metadata": {
    "collapsed": true
   },
   "outputs": [],
   "source": [
    "tree_clf_pred = tree_clf.predict(X_test)"
   ]
  },
  {
   "cell_type": "code",
   "execution_count": 37,
   "metadata": {},
   "outputs": [
    {
     "data": {
      "text/plain": [
       "0.99449035344378156"
      ]
     },
     "execution_count": 37,
     "metadata": {},
     "output_type": "execute_result"
    }
   ],
   "source": [
    "score_tree_clf = roc_auc_score(y_test, tree_clf_pred)\n",
    "score_tree_clf"
   ]
  },
  {
   "cell_type": "code",
   "execution_count": null,
   "metadata": {
    "collapsed": true
   },
   "outputs": [],
   "source": []
  },
  {
   "cell_type": "markdown",
   "metadata": {},
   "source": [
    "### Decision Tree / Random Forest / Extra Tree : max_depth 15"
   ]
  },
  {
   "cell_type": "code",
   "execution_count": 38,
   "metadata": {
    "collapsed": true
   },
   "outputs": [],
   "source": [
    "tree15_clf = VotingClassifier(estimators=[('DTC_15', DTC_15), ('RFC_15', RFC_15), ('ETC_15',ETC_15), ('XGB_15',XGB_15)], voting='soft')"
   ]
  },
  {
   "cell_type": "code",
   "execution_count": 39,
   "metadata": {},
   "outputs": [
    {
     "name": "stdout",
     "output_type": "stream",
     "text": [
      "Wall time: 25min 27s\n"
     ]
    },
    {
     "data": {
      "text/plain": [
       "VotingClassifier(estimators=[('DTC_15', DecisionTreeClassifier(class_weight=None, criterion='gini', max_depth=15,\n",
       "            max_features=None, max_leaf_nodes=None,\n",
       "            min_impurity_split=1e-07, min_samples_leaf=1,\n",
       "            min_samples_split=2, min_weight_fraction_leaf=0.0,\n",
       "            presort=False, ran...logistic', reg_alpha=0, reg_lambda=1,\n",
       "       scale_pos_weight=1, seed=0, silent=True, subsample=1))],\n",
       "         n_jobs=1, voting='soft', weights=None)"
      ]
     },
     "execution_count": 39,
     "metadata": {},
     "output_type": "execute_result"
    }
   ],
   "source": [
    "%%time\n",
    "tree15_clf.fit(X_train, y_train)"
   ]
  },
  {
   "cell_type": "code",
   "execution_count": 40,
   "metadata": {
    "collapsed": true
   },
   "outputs": [],
   "source": [
    "tree15_clf_pred = tree15_clf.predict(X_test)"
   ]
  },
  {
   "cell_type": "code",
   "execution_count": 41,
   "metadata": {},
   "outputs": [
    {
     "data": {
      "text/plain": [
       "0.95354261505025006"
      ]
     },
     "execution_count": 41,
     "metadata": {},
     "output_type": "execute_result"
    }
   ],
   "source": [
    "score_tree15_clf = roc_auc_score(y_test, tree15_clf_pred)\n",
    "score_tree15_clf"
   ]
  },
  {
   "cell_type": "code",
   "execution_count": null,
   "metadata": {
    "collapsed": true
   },
   "outputs": [],
   "source": []
  },
  {
   "cell_type": "markdown",
   "metadata": {},
   "source": [
    "#### Predict Save"
   ]
  },
  {
   "cell_type": "markdown",
   "metadata": {},
   "source": [
    "* all model"
   ]
  },
  {
   "cell_type": "code",
   "execution_count": 42,
   "metadata": {},
   "outputs": [
    {
     "name": "stderr",
     "output_type": "stream",
     "text": [
      "C:\\Users\\tjdal\\Anaconda3\\lib\\site-packages\\sklearn\\discriminant_analysis.py:695: UserWarning: Variables are collinear\n",
      "  warnings.warn(\"Variables are collinear\")\n"
     ]
    },
    {
     "name": "stdout",
     "output_type": "stream",
     "text": [
      "Wall time: 9min 20s\n"
     ]
    }
   ],
   "source": [
    "%%time\n",
    "all_clf = VotingClassifier(estimators=[('LOG', LOG), ('QDA', QDA), ('LDA', LDA), ('DTC', DTC), \n",
    "                                       ('RFC', RFC), ('ETC',ETC), ('XGB',XGB)], voting='soft')\n",
    "all_clf.fit(dfX, y)"
   ]
  },
  {
   "cell_type": "code",
   "execution_count": 43,
   "metadata": {
    "collapsed": true
   },
   "outputs": [],
   "source": [
    "y_hat_all = all_clf.predict(dfX_test)"
   ]
  },
  {
   "cell_type": "code",
   "execution_count": 50,
   "metadata": {
    "collapsed": true
   },
   "outputs": [],
   "source": [
    "all_hat_answer = pd.concat([pd.DataFrame(df_test['activity_id'], columns=['activity_id']), pd.DataFrame(y_hat_all, columns=['outcome'])], axis=1)"
   ]
  },
  {
   "cell_type": "code",
   "execution_count": 52,
   "metadata": {
    "collapsed": true
   },
   "outputs": [],
   "source": [
    "all_hat_answer.to_csv('./all_hat_answer.csv', index=False)"
   ]
  },
  {
   "cell_type": "code",
   "execution_count": null,
   "metadata": {
    "collapsed": true
   },
   "outputs": [],
   "source": []
  },
  {
   "cell_type": "markdown",
   "metadata": {},
   "source": [
    "* tree model"
   ]
  },
  {
   "cell_type": "code",
   "execution_count": 54,
   "metadata": {},
   "outputs": [
    {
     "name": "stdout",
     "output_type": "stream",
     "text": [
      "Wall time: 6min 26s\n"
     ]
    }
   ],
   "source": [
    "%%time\n",
    "tree_clf = VotingClassifier(estimators=[('DTC', DTC), ('RFC', RFC), ('ETC',ETC), ('XGB',XGB)], voting='soft')\n",
    "tree_clf.fit(dfX, y)"
   ]
  },
  {
   "cell_type": "code",
   "execution_count": 55,
   "metadata": {
    "collapsed": true
   },
   "outputs": [],
   "source": [
    "y_hat_tree = tree_clf.predict(dfX_test)"
   ]
  },
  {
   "cell_type": "code",
   "execution_count": 58,
   "metadata": {
    "collapsed": true
   },
   "outputs": [],
   "source": [
    "tree_hat_answer = pd.concat([pd.DataFrame(df_test['activity_id'], columns=['activity_id']), pd.DataFrame(y_hat_tree, columns=['outcome'])], axis=1)"
   ]
  },
  {
   "cell_type": "code",
   "execution_count": 60,
   "metadata": {
    "collapsed": true
   },
   "outputs": [],
   "source": [
    "tree_hat_answer.to_csv('./tree_hat_answer.csv', index=False)"
   ]
  },
  {
   "cell_type": "code",
   "execution_count": null,
   "metadata": {
    "collapsed": true
   },
   "outputs": [],
   "source": []
  },
  {
   "cell_type": "markdown",
   "metadata": {},
   "source": [
    "* tree model : max_depth 15"
   ]
  },
  {
   "cell_type": "code",
   "execution_count": 61,
   "metadata": {},
   "outputs": [
    {
     "name": "stdout",
     "output_type": "stream",
     "text": [
      "Wall time: 21min 38s\n"
     ]
    }
   ],
   "source": [
    "%%time\n",
    "tree15_clf = VotingClassifier(estimators=[('DTC_15', DTC_15), ('RFC_15', RFC_15), ('ETC_15',ETC_15), ('XGB_15',XGB_15)], voting='soft')\n",
    "tree15_clf.fit(dfX, y)"
   ]
  },
  {
   "cell_type": "code",
   "execution_count": 62,
   "metadata": {
    "collapsed": true
   },
   "outputs": [],
   "source": [
    "y_hat_tree15 = tree15_clf.predict(dfX_test)"
   ]
  },
  {
   "cell_type": "code",
   "execution_count": 63,
   "metadata": {
    "collapsed": true
   },
   "outputs": [],
   "source": [
    "tree15_hat_answer = pd.concat([pd.DataFrame(df_test['activity_id'], columns=['activity_id']), pd.DataFrame(y_hat_tree15, columns=['outcome'])], axis=1)"
   ]
  },
  {
   "cell_type": "code",
   "execution_count": 64,
   "metadata": {
    "collapsed": true
   },
   "outputs": [],
   "source": [
    "tree15_hat_answer.to_csv('./tree15_hat_answer.csv', index=False)"
   ]
  },
  {
   "cell_type": "code",
   "execution_count": null,
   "metadata": {
    "collapsed": true
   },
   "outputs": [],
   "source": []
  },
  {
   "cell_type": "code",
   "execution_count": null,
   "metadata": {
    "collapsed": true
   },
   "outputs": [],
   "source": []
  },
  {
   "cell_type": "code",
   "execution_count": null,
   "metadata": {
    "collapsed": true
   },
   "outputs": [],
   "source": []
  }
 ],
 "metadata": {
  "kernelspec": {
   "display_name": "Python 3",
   "language": "python",
   "name": "python3"
  },
  "language_info": {
   "codemirror_mode": {
    "name": "ipython",
    "version": 3
   },
   "file_extension": ".py",
   "mimetype": "text/x-python",
   "name": "python",
   "nbconvert_exporter": "python",
   "pygments_lexer": "ipython3",
   "version": "3.6.1"
  }
 },
 "nbformat": 4,
 "nbformat_minor": 2
}
